{
 "cells": [
  {
   "cell_type": "code",
   "execution_count": 1,
   "metadata": {},
   "outputs": [],
   "source": [
    "# Once we get access to the data.. if from database, we are good\n",
    "# if from JSON, we need to flatten it out meta is a dict inside the dict\n",
    "\n",
    "# df = pd.read_csv"
   ]
  },
  {
   "cell_type": "code",
   "execution_count": 2,
   "metadata": {},
   "outputs": [],
   "source": [
    "# Look at unique values in each column\n",
    "# df['column_header'].unique()"
   ]
  },
  {
   "cell_type": "code",
   "execution_count": 78,
   "metadata": {},
   "outputs": [],
   "source": [
    "import pandas as pd\n",
    "import random\n",
    "import string\n",
    "import decimal\n",
    "import datetime\n",
    "\n",
    "class Dataset:\n",
    "\n",
    "    def __init__(self, rows, columns):\n",
    "        self.rows = rows\n",
    "        self.columns = columns\n",
    "        self.features = [\"amount\", \"category\", \"date\", \"name\", \"orginal_description\", \"address\", \"city\", \"lat\", \"lon\", \"state\", \"zip\"]\n",
    "        self.dataset = []\n",
    "\n",
    "    def rand_amount(self):\n",
    "        ''' generates a random amount between $2 and $250 '''\n",
    "        amount = float(decimal.Decimal(random.randrange(200, 25000))/100)\n",
    "        return amount\n",
    "    \n",
    "    def rand_category(self):\n",
    "        ''' generates random categories '''\n",
    "        categories = ['Toy', 'Grocery', 'Furniture', 'Auto', 'Loan', 'Shops', 'Computer Electronics', 'Food', 'Home Goods', 'Candy', 'Laundry', 'Rent']\n",
    "        category = random.choice(categories)\n",
    "        return category\n",
    "    \n",
    "    def rand_date(self):\n",
    "        start = datetime.datetime.now()\n",
    "        end = start + datetime.timedelta(days=365)\n",
    "        random_date = start + (end - start) * random.random()\n",
    "        return random_date\n",
    "    \n",
    "    def rand_name(self):\n",
    "        names = [\"Safeway\", \"Albertsons\", \"Kroger's\", \"Ralphs\", \"Best Buy\", \"Micro Center\", \"Pizza My Heart\", \"Veggie Grill\", \"Car Wash Classic\", \"7 Eleven\"]\n",
    "        name = random.choice(names)\n",
    "        return name\n",
    "    \n",
    "    def rand_description(self):\n",
    "        description = ''.join(random.choice(string.ascii_letters) for _ in range(10))\n",
    "        return description\n",
    "    \n",
    "    def rand_address(self):\n",
    "        we_just_gonna_use_one = \"555 Post Street\"\n",
    "        return we_just_gonna_use_one\n",
    "    \n",
    "    def rand_city(self):\n",
    "        just_one = \"San Francisco\"\n",
    "        return just_one\n",
    "    \n",
    "    def rand_lat(self):\n",
    "        return 15\n",
    "    \n",
    "    def rand_lon(self):\n",
    "        return 10\n",
    "    \n",
    "    def rand_state(self):\n",
    "        state = \"CA\"\n",
    "        return state\n",
    "    \n",
    "    def rand_zip(self):\n",
    "        return 94103\n",
    "    \n",
    "    def fill_dataset(self):\n",
    "        \n",
    "        self.dataset.append(self.features)\n",
    "        \n",
    "        for j in range(self.rows):\n",
    "            for i in range(self.columns):\n",
    "                the_row = []\n",
    "                the_row.append(self.rand_amount())\n",
    "                the_row.append(self.rand_category())\n",
    "                the_row.append(self.rand_date())\n",
    "                the_row.append(self.rand_name())\n",
    "                the_row.append(self.rand_description())\n",
    "                the_row.append(self.rand_address())\n",
    "                the_row.append(self.rand_city())\n",
    "                the_row.append(self.rand_lat())\n",
    "                the_row.append(self.rand_lon())\n",
    "                the_row.append(self.rand_zip())\n",
    "                the_row.append(self.rand_state())\n",
    "                self.dataset.append(the_row)\n",
    "\n",
    "        for index, item in enumerate(self.dataset):\n",
    "            print(item)\n",
    "        return\n",
    "                \n",
    "    def dataset_to_csv(self, name):\n",
    "        ''' save dataset to a csv '''\n",
    "        if len(self.dataset) < 1:\n",
    "            print(\"create dataset\")\n",
    "            return\n",
    "        df = pd.DataFrame(self.dataset)\n",
    "        df.to_csv(name+'.csv', index = True)\n",
    "        return    "
   ]
  },
  {
   "cell_type": "code",
   "execution_count": 79,
   "metadata": {},
   "outputs": [
    {
     "name": "stdout",
     "output_type": "stream",
     "text": [
      "['amount', 'category', 'date', 'name', 'orginal_description', 'address', 'city', 'lat', 'lon', 'state', 'zip']\n",
      "[211.48, 'Computer Electronics', datetime.datetime(2021, 2, 13, 16, 8, 3, 85451), 'Car Wash Classic', 'JGOMJPDOca', '555 Post Street', 'San Francisco', 15, 10, 94103, 'CA']\n",
      "[147.79, 'Loan', datetime.datetime(2021, 7, 3, 11, 35, 17, 111312), 'Micro Center', 'TlalGxWpCN', '555 Post Street', 'San Francisco', 15, 10, 94103, 'CA']\n",
      "[22.73, 'Food', datetime.datetime(2021, 11, 17, 22, 24, 12, 138716), 'Best Buy', 'uMDZkfSITb', '555 Post Street', 'San Francisco', 15, 10, 94103, 'CA']\n",
      "[95.25, 'Home Goods', datetime.datetime(2021, 6, 29, 8, 5, 31, 61413), '7 Eleven', 'SjMSmGbxMS', '555 Post Street', 'San Francisco', 15, 10, 94103, 'CA']\n",
      "[34.79, 'Shops', datetime.datetime(2021, 4, 22, 12, 51, 25, 84566), 'Ralphs', 'sNXMPeyKiC', '555 Post Street', 'San Francisco', 15, 10, 94103, 'CA']\n",
      "[184.16, 'Home Goods', datetime.datetime(2021, 6, 6, 6, 31, 27, 917355), 'Veggie Grill', 'ooxsTZnkqJ', '555 Post Street', 'San Francisco', 15, 10, 94103, 'CA']\n",
      "[197.77, 'Rent', datetime.datetime(2021, 4, 27, 4, 31, 38, 659721), \"Kroger's\", 'EXikIdodbn', '555 Post Street', 'San Francisco', 15, 10, 94103, 'CA']\n",
      "[6.22, 'Grocery', datetime.datetime(2021, 10, 19, 13, 11, 10, 408300), 'Safeway', 'DeDvkxftVM', '555 Post Street', 'San Francisco', 15, 10, 94103, 'CA']\n",
      "[216.45, 'Furniture', datetime.datetime(2021, 11, 10, 1, 27, 58, 527721), \"Kroger's\", 'hnmgiCMQCi', '555 Post Street', 'San Francisco', 15, 10, 94103, 'CA']\n",
      "[55.57, 'Rent', datetime.datetime(2021, 9, 27, 22, 9, 45, 348347), 'Micro Center', 'EglRmpZBWn', '555 Post Street', 'San Francisco', 15, 10, 94103, 'CA']\n",
      "[233.31, 'Toy', datetime.datetime(2021, 12, 28, 19, 1, 59, 412353), 'Albertsons', 'lLdOFFkoHs', '555 Post Street', 'San Francisco', 15, 10, 94103, 'CA']\n",
      "[5.75, 'Furniture', datetime.datetime(2021, 5, 28, 7, 19, 7, 108283), 'Micro Center', 'nEtQQsnkRA', '555 Post Street', 'San Francisco', 15, 10, 94103, 'CA']\n",
      "[206.75, 'Toy', datetime.datetime(2021, 5, 31, 13, 32, 21, 644759), 'Ralphs', 'spRnyqKbtC', '555 Post Street', 'San Francisco', 15, 10, 94103, 'CA']\n",
      "[12.96, 'Home Goods', datetime.datetime(2021, 5, 14, 5, 44, 12, 745303), 'Micro Center', 'etdLEInsyz', '555 Post Street', 'San Francisco', 15, 10, 94103, 'CA']\n",
      "[135.29, 'Laundry', datetime.datetime(2021, 10, 13, 13, 39, 30, 830530), 'Albertsons', 'QUcWbjpxlL', '555 Post Street', 'San Francisco', 15, 10, 94103, 'CA']\n",
      "[12.72, 'Home Goods', datetime.datetime(2021, 6, 14, 6, 14, 32, 950809), 'Car Wash Classic', 'MtkgEJuDkd', '555 Post Street', 'San Francisco', 15, 10, 94103, 'CA']\n",
      "[94.13, 'Loan', datetime.datetime(2021, 7, 6, 22, 17, 16, 549389), 'Ralphs', 'htnuqszaXg', '555 Post Street', 'San Francisco', 15, 10, 94103, 'CA']\n",
      "[68.63, 'Candy', datetime.datetime(2021, 6, 26, 8, 13, 47, 494649), \"Kroger's\", 'NoiitLgfOZ', '555 Post Street', 'San Francisco', 15, 10, 94103, 'CA']\n",
      "[170.16, 'Laundry', datetime.datetime(2021, 10, 28, 16, 8, 41, 170595), 'Pizza My Heart', 'nYbYknGuOL', '555 Post Street', 'San Francisco', 15, 10, 94103, 'CA']\n",
      "[52.88, 'Shops', datetime.datetime(2021, 6, 10, 1, 6, 37, 742424), 'Safeway', 'iqayktGwkD', '555 Post Street', 'San Francisco', 15, 10, 94103, 'CA']\n",
      "[51.65, 'Auto', datetime.datetime(2021, 5, 16, 3, 15, 50, 93775), 'Car Wash Classic', 'FWQpXQsUag', '555 Post Street', 'San Francisco', 15, 10, 94103, 'CA']\n",
      "[73.38, 'Laundry', datetime.datetime(2021, 3, 11, 3, 37, 30, 860088), 'Ralphs', 'WwasQcBNCG', '555 Post Street', 'San Francisco', 15, 10, 94103, 'CA']\n",
      "[167.68, 'Home Goods', datetime.datetime(2021, 7, 31, 9, 1, 39, 71494), 'Safeway', 'ZPEZkgKnRP', '555 Post Street', 'San Francisco', 15, 10, 94103, 'CA']\n",
      "[242.36, 'Candy', datetime.datetime(2021, 4, 29, 0, 52, 51, 207009), 'Micro Center', 'grfOpEgsez', '555 Post Street', 'San Francisco', 15, 10, 94103, 'CA']\n",
      "[233.02, 'Computer Electronics', datetime.datetime(2021, 9, 28, 23, 51, 56, 269452), 'Micro Center', 'UFZVjgUZag', '555 Post Street', 'San Francisco', 15, 10, 94103, 'CA']\n",
      "[35.1, 'Shops', datetime.datetime(2021, 5, 25, 4, 53, 47, 191227), 'Veggie Grill', 'TBZoZOJcpp', '555 Post Street', 'San Francisco', 15, 10, 94103, 'CA']\n",
      "[235.42, 'Furniture', datetime.datetime(2021, 3, 7, 10, 5, 36, 128604), 'Pizza My Heart', 'ELGnMFoaqf', '555 Post Street', 'San Francisco', 15, 10, 94103, 'CA']\n",
      "[215.27, 'Home Goods', datetime.datetime(2021, 9, 14, 16, 45, 40, 665951), 'Ralphs', 'OubhAtuDRH', '555 Post Street', 'San Francisco', 15, 10, 94103, 'CA']\n",
      "[214.76, 'Laundry', datetime.datetime(2021, 2, 18, 5, 25, 44, 60998), 'Car Wash Classic', 'BPaBapDLeY', '555 Post Street', 'San Francisco', 15, 10, 94103, 'CA']\n",
      "[117.9, 'Computer Electronics', datetime.datetime(2021, 5, 28, 3, 2, 44, 319703), 'Veggie Grill', 'DopZiDJdqq', '555 Post Street', 'San Francisco', 15, 10, 94103, 'CA']\n",
      "[150.26, 'Laundry', datetime.datetime(2021, 8, 8, 21, 2, 46, 796160), 'Pizza My Heart', 'jXsEIbPsnq', '555 Post Street', 'San Francisco', 15, 10, 94103, 'CA']\n",
      "[169.22, 'Home Goods', datetime.datetime(2021, 3, 14, 10, 3, 46, 357469), 'Ralphs', 'MjJDkuIgVm', '555 Post Street', 'San Francisco', 15, 10, 94103, 'CA']\n",
      "[212.96, 'Candy', datetime.datetime(2021, 2, 13, 15, 42, 19, 287785), 'Veggie Grill', 'YsuLfHwznW', '555 Post Street', 'San Francisco', 15, 10, 94103, 'CA']\n",
      "[217.19, 'Grocery', datetime.datetime(2021, 11, 15, 0, 42, 2, 150230), 'Best Buy', 'MhLdoFtXal', '555 Post Street', 'San Francisco', 15, 10, 94103, 'CA']\n",
      "[53.31, 'Home Goods', datetime.datetime(2021, 9, 4, 22, 55, 20, 536155), '7 Eleven', 'cJGkqPciic', '555 Post Street', 'San Francisco', 15, 10, 94103, 'CA']\n",
      "[72.44, 'Toy', datetime.datetime(2021, 10, 21, 4, 57, 40, 992445), 'Car Wash Classic', 'XFKsvFfsNf', '555 Post Street', 'San Francisco', 15, 10, 94103, 'CA']\n",
      "[45.35, 'Home Goods', datetime.datetime(2021, 11, 16, 0, 11, 20, 55469), 'Car Wash Classic', 'WNzlLTNbAc', '555 Post Street', 'San Francisco', 15, 10, 94103, 'CA']\n",
      "[214.46, 'Toy', datetime.datetime(2021, 11, 7, 0, 17, 52, 190031), \"Kroger's\", 'uBTuTssQSR', '555 Post Street', 'San Francisco', 15, 10, 94103, 'CA']\n",
      "[36.99, 'Home Goods', datetime.datetime(2021, 4, 13, 19, 19, 2, 86846), 'Best Buy', 'RNNrbNxKQo', '555 Post Street', 'San Francisco', 15, 10, 94103, 'CA']\n",
      "[216.44, 'Candy', datetime.datetime(2021, 9, 3, 19, 36, 47, 672400), 'Pizza My Heart', 'MnhIyuTJen', '555 Post Street', 'San Francisco', 15, 10, 94103, 'CA']\n",
      "[97.76, 'Loan', datetime.datetime(2021, 4, 24, 20, 9, 38, 539560), 'Albertsons', 'pqMUJpxgFu', '555 Post Street', 'San Francisco', 15, 10, 94103, 'CA']\n",
      "[33.43, 'Shops', datetime.datetime(2021, 11, 15, 2, 18, 23, 470181), 'Pizza My Heart', 'MMDzOWybWk', '555 Post Street', 'San Francisco', 15, 10, 94103, 'CA']\n",
      "[81.41, 'Auto', datetime.datetime(2021, 5, 28, 20, 7, 8, 635309), 'Ralphs', 'OGtiAsiuWe', '555 Post Street', 'San Francisco', 15, 10, 94103, 'CA']\n",
      "[181.59, 'Shops', datetime.datetime(2021, 5, 31, 18, 50, 41, 401494), 'Car Wash Classic', 'sPzJaRnMQO', '555 Post Street', 'San Francisco', 15, 10, 94103, 'CA']\n",
      "[111.05, 'Auto', datetime.datetime(2021, 5, 3, 14, 39, 13, 718539), 'Veggie Grill', 'PgfDXQWCAi', '555 Post Street', 'San Francisco', 15, 10, 94103, 'CA']\n",
      "[142.89, 'Laundry', datetime.datetime(2021, 3, 10, 4, 20, 59, 151882), 'Albertsons', 'RORQsZdIGn', '555 Post Street', 'San Francisco', 15, 10, 94103, 'CA']\n",
      "[57.84, 'Grocery', datetime.datetime(2021, 5, 6, 15, 15, 2, 142541), 'Pizza My Heart', 'XhCYgRwJEf', '555 Post Street', 'San Francisco', 15, 10, 94103, 'CA']\n",
      "[120.39, 'Computer Electronics', datetime.datetime(2021, 9, 26, 18, 46, 51, 557834), 'Veggie Grill', 'drpyEhJMiT', '555 Post Street', 'San Francisco', 15, 10, 94103, 'CA']\n",
      "[111.2, 'Laundry', datetime.datetime(2021, 3, 11, 22, 51, 39, 17101), 'Safeway', 'eUEfZDEQBy', '555 Post Street', 'San Francisco', 15, 10, 94103, 'CA']\n",
      "[120.49, 'Computer Electronics', datetime.datetime(2021, 1, 13, 0, 28, 27, 408269), 'Car Wash Classic', 'sEFLnIwiYu', '555 Post Street', 'San Francisco', 15, 10, 94103, 'CA']\n",
      "[176.1, 'Shops', datetime.datetime(2021, 10, 18, 1, 20, 37, 551798), 'Micro Center', 'PCmCZXGmgm', '555 Post Street', 'San Francisco', 15, 10, 94103, 'CA']\n",
      "[66.98, 'Food', datetime.datetime(2021, 7, 3, 16, 0, 45, 887491), 'Ralphs', 'NsrviuxHQM', '555 Post Street', 'San Francisco', 15, 10, 94103, 'CA']\n",
      "[187.75, 'Laundry', datetime.datetime(2021, 7, 2, 9, 18, 28, 721275), 'Veggie Grill', 'alJImKZXNk', '555 Post Street', 'San Francisco', 15, 10, 94103, 'CA']\n",
      "[36.86, 'Furniture', datetime.datetime(2021, 2, 17, 4, 53, 38, 555532), 'Micro Center', 'aULaugHqWk', '555 Post Street', 'San Francisco', 15, 10, 94103, 'CA']\n",
      "[44.19, 'Loan', datetime.datetime(2021, 4, 17, 7, 37, 15, 843505), 'Veggie Grill', 'gzpCkdqGkG', '555 Post Street', 'San Francisco', 15, 10, 94103, 'CA']\n",
      "[162.15, 'Computer Electronics', datetime.datetime(2021, 12, 31, 7, 55, 44, 150196), \"Kroger's\", 'JrKJFgWKrv', '555 Post Street', 'San Francisco', 15, 10, 94103, 'CA']\n",
      "[60.24, 'Auto', datetime.datetime(2021, 12, 13, 9, 24, 18, 256033), '7 Eleven', 'vutnIRfltz', '555 Post Street', 'San Francisco', 15, 10, 94103, 'CA']\n",
      "[135.64, 'Home Goods', datetime.datetime(2021, 8, 6, 1, 42, 25, 254576), 'Micro Center', 'lPoqQBdMYr', '555 Post Street', 'San Francisco', 15, 10, 94103, 'CA']\n",
      "[84.4, 'Rent', datetime.datetime(2021, 11, 11, 9, 4, 39, 1776), 'Pizza My Heart', 'LHUOWPTnoP', '555 Post Street', 'San Francisco', 15, 10, 94103, 'CA']\n",
      "[39.04, 'Rent', datetime.datetime(2021, 10, 17, 2, 24, 18, 770284), \"Kroger's\", 'pLAvxCJYZM', '555 Post Street', 'San Francisco', 15, 10, 94103, 'CA']\n",
      "[160.79, 'Furniture', datetime.datetime(2021, 11, 2, 0, 10, 20, 661907), 'Pizza My Heart', 'ojXSjwPRII', '555 Post Street', 'San Francisco', 15, 10, 94103, 'CA']\n",
      "[123.66, 'Auto', datetime.datetime(2022, 1, 7, 5, 32, 27, 386914), 'Pizza My Heart', 'HdBnezWHBP', '555 Post Street', 'San Francisco', 15, 10, 94103, 'CA']\n",
      "[156.69, 'Computer Electronics', datetime.datetime(2021, 3, 6, 14, 28, 2, 223149), 'Best Buy', 'FfLgRPyzjA', '555 Post Street', 'San Francisco', 15, 10, 94103, 'CA']\n",
      "[207.18, 'Toy', datetime.datetime(2021, 10, 4, 8, 21, 0, 931265), 'Albertsons', 'OzSHkbjuFj', '555 Post Street', 'San Francisco', 15, 10, 94103, 'CA']\n",
      "[126.75, 'Laundry', datetime.datetime(2021, 12, 31, 9, 42, 28, 486436), 'Best Buy', 'aYMjZGiMxE', '555 Post Street', 'San Francisco', 15, 10, 94103, 'CA']\n",
      "[197.15, 'Toy', datetime.datetime(2021, 10, 10, 3, 40, 38, 430644), 'Albertsons', 'zblutleoDF', '555 Post Street', 'San Francisco', 15, 10, 94103, 'CA']\n",
      "[135.73, 'Home Goods', datetime.datetime(2021, 6, 6, 2, 2, 35, 760093), 'Veggie Grill', 'uWEVEMDvvl', '555 Post Street', 'San Francisco', 15, 10, 94103, 'CA']\n",
      "[121.73, 'Loan', datetime.datetime(2021, 9, 13, 10, 15, 44, 550903), 'Pizza My Heart', 'tIVnheGCYR', '555 Post Street', 'San Francisco', 15, 10, 94103, 'CA']\n",
      "[62.66, 'Candy', datetime.datetime(2021, 3, 3, 14, 12, 39, 727198), \"Kroger's\", 'SIITMlzBpD', '555 Post Street', 'San Francisco', 15, 10, 94103, 'CA']\n",
      "[190.05, 'Computer Electronics', datetime.datetime(2021, 10, 25, 19, 40, 22, 8658), 'Ralphs', 'ZPLPiIOnbt', '555 Post Street', 'San Francisco', 15, 10, 94103, 'CA']\n",
      "[168.57, 'Grocery', datetime.datetime(2021, 9, 9, 11, 22, 50, 126892), 'Albertsons', 'kHZpIiOGeV', '555 Post Street', 'San Francisco', 15, 10, 94103, 'CA']\n",
      "[246.17, 'Toy', datetime.datetime(2021, 7, 27, 6, 38, 35, 168573), 'Car Wash Classic', 'ZDoGdbcnAQ', '555 Post Street', 'San Francisco', 15, 10, 94103, 'CA']\n",
      "[104.19, 'Candy', datetime.datetime(2021, 12, 2, 2, 5, 45, 685990), 'Veggie Grill', 'TUcmLNsgKn', '555 Post Street', 'San Francisco', 15, 10, 94103, 'CA']\n",
      "[71.6, 'Food', datetime.datetime(2021, 5, 6, 1, 59, 54, 300542), 'Veggie Grill', 'akhONyMzoh', '555 Post Street', 'San Francisco', 15, 10, 94103, 'CA']\n",
      "[125.93, 'Laundry', datetime.datetime(2021, 7, 17, 20, 21, 27, 421003), 'Safeway', 'XZWtgzbgSy', '555 Post Street', 'San Francisco', 15, 10, 94103, 'CA']\n",
      "[135.69, 'Auto', datetime.datetime(2021, 2, 3, 23, 44, 15, 727924), \"Kroger's\", 'jMqsfLZIys', '555 Post Street', 'San Francisco', 15, 10, 94103, 'CA']\n",
      "[101.91, 'Laundry', datetime.datetime(2021, 6, 2, 22, 25, 34, 81334), 'Pizza My Heart', 'WwnldWnVAc', '555 Post Street', 'San Francisco', 15, 10, 94103, 'CA']\n",
      "[187.33, 'Laundry', datetime.datetime(2021, 6, 5, 10, 17, 21, 204780), 'Pizza My Heart', 'FgTMBjqoxD', '555 Post Street', 'San Francisco', 15, 10, 94103, 'CA']\n",
      "[246.21, 'Food', datetime.datetime(2021, 5, 7, 11, 6, 30, 890780), 'Micro Center', 'CCODhkaUtR', '555 Post Street', 'San Francisco', 15, 10, 94103, 'CA']\n",
      "[126.67, 'Candy', datetime.datetime(2021, 6, 11, 0, 49, 48, 179560), 'Car Wash Classic', 'yChtVJhUxC', '555 Post Street', 'San Francisco', 15, 10, 94103, 'CA']\n",
      "[32.37, 'Food', datetime.datetime(2021, 1, 14, 18, 44, 42, 21949), 'Car Wash Classic', 'pPJOlFUNDx', '555 Post Street', 'San Francisco', 15, 10, 94103, 'CA']\n",
      "[193.39, 'Computer Electronics', datetime.datetime(2021, 11, 27, 10, 47, 14, 988059), 'Best Buy', 'PgYDIabyui', '555 Post Street', 'San Francisco', 15, 10, 94103, 'CA']\n",
      "[235.12, 'Rent', datetime.datetime(2021, 6, 9, 7, 6, 30, 911510), 'Ralphs', 'HHSuJPxrbH', '555 Post Street', 'San Francisco', 15, 10, 94103, 'CA']\n",
      "[182.35, 'Toy', datetime.datetime(2021, 7, 9, 16, 55, 49, 249923), 'Micro Center', 'uQoqXEddXO', '555 Post Street', 'San Francisco', 15, 10, 94103, 'CA']\n",
      "[246.0, 'Rent', datetime.datetime(2021, 6, 10, 18, 13, 49, 811359), 'Car Wash Classic', 'cKLcAQZnly', '555 Post Street', 'San Francisco', 15, 10, 94103, 'CA']\n",
      "[169.65, 'Toy', datetime.datetime(2021, 8, 17, 20, 27, 47, 135406), 'Car Wash Classic', 'YNjZYWaLcA', '555 Post Street', 'San Francisco', 15, 10, 94103, 'CA']\n",
      "[222.82, 'Loan', datetime.datetime(2021, 1, 30, 23, 18, 7, 429269), 'Safeway', 'PTAKTbQULy', '555 Post Street', 'San Francisco', 15, 10, 94103, 'CA']\n",
      "[176.8, 'Computer Electronics', datetime.datetime(2022, 1, 2, 2, 8, 44, 92898), 'Micro Center', 'laXRBwILrk', '555 Post Street', 'San Francisco', 15, 10, 94103, 'CA']\n",
      "[102.09, 'Computer Electronics', datetime.datetime(2021, 10, 3, 11, 37, 45, 720422), 'Ralphs', 'VEkTeZuJwm', '555 Post Street', 'San Francisco', 15, 10, 94103, 'CA']\n",
      "[115.36, 'Laundry', datetime.datetime(2021, 4, 10, 15, 2, 3, 874868), 'Car Wash Classic', 'YvBTIIaBjl', '555 Post Street', 'San Francisco', 15, 10, 94103, 'CA']\n",
      "[142.14, 'Laundry', datetime.datetime(2021, 9, 19, 17, 39, 5, 896740), '7 Eleven', 'lBvCpbsSFQ', '555 Post Street', 'San Francisco', 15, 10, 94103, 'CA']\n",
      "[156.98, 'Furniture', datetime.datetime(2021, 10, 23, 5, 54, 51, 113011), 'Ralphs', 'qsqcPGkYWd', '555 Post Street', 'San Francisco', 15, 10, 94103, 'CA']\n",
      "[178.15, 'Computer Electronics', datetime.datetime(2021, 12, 16, 20, 11, 3, 376842), 'Micro Center', 'evrNGPpYRU', '555 Post Street', 'San Francisco', 15, 10, 94103, 'CA']\n",
      "[200.46, 'Loan', datetime.datetime(2021, 6, 11, 14, 37, 4, 963829), '7 Eleven', 'TsaTTIgeuj', '555 Post Street', 'San Francisco', 15, 10, 94103, 'CA']\n",
      "[66.17, 'Loan', datetime.datetime(2021, 5, 6, 9, 48, 41, 406148), '7 Eleven', 'ZUdWuQmFvf', '555 Post Street', 'San Francisco', 15, 10, 94103, 'CA']\n",
      "[151.64, 'Auto', datetime.datetime(2021, 5, 26, 14, 41, 8, 960606), 'Safeway', 'UJKZGgDxyw', '555 Post Street', 'San Francisco', 15, 10, 94103, 'CA']\n",
      "[120.76, 'Laundry', datetime.datetime(2021, 9, 24, 5, 2, 3, 157887), \"Kroger's\", 'sNqaUvDHcC', '555 Post Street', 'San Francisco', 15, 10, 94103, 'CA']\n",
      "[48.21, 'Home Goods', datetime.datetime(2021, 7, 31, 13, 31, 14, 186084), \"Kroger's\", 'mIhUfWIFhA', '555 Post Street', 'San Francisco', 15, 10, 94103, 'CA']\n",
      "[4.1, 'Furniture', datetime.datetime(2021, 4, 10, 9, 37, 4, 447323), \"Kroger's\", 'rgnFhuQOcw', '555 Post Street', 'San Francisco', 15, 10, 94103, 'CA']\n",
      "[8.52, 'Loan', datetime.datetime(2022, 1, 1, 2, 43, 44, 931347), 'Micro Center', 'tVgLuhzLxU', '555 Post Street', 'San Francisco', 15, 10, 94103, 'CA']\n",
      "[178.7, 'Candy', datetime.datetime(2021, 5, 25, 18, 31, 3, 222754), 'Albertsons', 'UhHHjwIfSm', '555 Post Street', 'San Francisco', 15, 10, 94103, 'CA']\n",
      "[193.13, 'Furniture', datetime.datetime(2021, 8, 7, 11, 37, 55, 983), 'Albertsons', 'ahcgKblhAg', '555 Post Street', 'San Francisco', 15, 10, 94103, 'CA']\n",
      "[38.84, 'Loan', datetime.datetime(2021, 6, 25, 17, 37, 26, 196747), \"Kroger's\", 'muaKHJfGuk', '555 Post Street', 'San Francisco', 15, 10, 94103, 'CA']\n",
      "[2.4, 'Auto', datetime.datetime(2021, 2, 13, 13, 16, 15, 675667), 'Best Buy', 'HqbxpdFyqe', '555 Post Street', 'San Francisco', 15, 10, 94103, 'CA']\n",
      "[199.23, 'Auto', datetime.datetime(2021, 1, 24, 23, 4, 10, 259579), 'Pizza My Heart', 'EFgaBNTClY', '555 Post Street', 'San Francisco', 15, 10, 94103, 'CA']\n",
      "[146.55, 'Food', datetime.datetime(2021, 12, 11, 21, 39, 24, 706860), 'Veggie Grill', 'TdJEEmQzIR', '555 Post Street', 'San Francisco', 15, 10, 94103, 'CA']\n",
      "[246.82, 'Rent', datetime.datetime(2021, 12, 2, 18, 4, 22, 817904), 'Best Buy', 'evVRlrPCTQ', '555 Post Street', 'San Francisco', 15, 10, 94103, 'CA']\n",
      "[182.43, 'Candy', datetime.datetime(2021, 5, 9, 19, 6, 5, 77803), 'Safeway', 'TxLBlMXSBI', '555 Post Street', 'San Francisco', 15, 10, 94103, 'CA']\n",
      "[78.22, 'Candy', datetime.datetime(2021, 8, 29, 6, 45, 1, 410382), 'Albertsons', 'yLngHXjqdj', '555 Post Street', 'San Francisco', 15, 10, 94103, 'CA']\n",
      "[149.24, 'Auto', datetime.datetime(2021, 7, 22, 18, 47, 19, 213481), 'Best Buy', 'UkccKGJnds', '555 Post Street', 'San Francisco', 15, 10, 94103, 'CA']\n"
     ]
    }
   ],
   "source": [
    "d2 = Dataset(10, 11)\n",
    "d2.fill_dataset()"
   ]
  },
  {
   "cell_type": "code",
   "execution_count": 80,
   "metadata": {},
   "outputs": [],
   "source": [
    "d2.dataset_to_csv('testing')"
   ]
  },
  {
   "cell_type": "code",
   "execution_count": 4,
   "metadata": {},
   "outputs": [],
   "source": [
    "d1 = Dataset(10,11)"
   ]
  },
  {
   "cell_type": "code",
   "execution_count": 5,
   "metadata": {},
   "outputs": [
    {
     "data": {
      "text/plain": [
       "10"
      ]
     },
     "execution_count": 5,
     "metadata": {},
     "output_type": "execute_result"
    }
   ],
   "source": [
    "d1.create_empties()"
   ]
  },
  {
   "cell_type": "code",
   "execution_count": 6,
   "metadata": {},
   "outputs": [
    {
     "data": {
      "text/plain": [
       "136.72"
      ]
     },
     "execution_count": 6,
     "metadata": {},
     "output_type": "execute_result"
    }
   ],
   "source": [
    "d1.rand_amount()"
   ]
  },
  {
   "cell_type": "code",
   "execution_count": 7,
   "metadata": {},
   "outputs": [
    {
     "data": {
      "text/plain": [
       "datetime.datetime(2021, 6, 21, 9, 55, 36, 296923)"
      ]
     },
     "execution_count": 7,
     "metadata": {},
     "output_type": "execute_result"
    }
   ],
   "source": [
    "d1.rand_date()"
   ]
  },
  {
   "cell_type": "code",
   "execution_count": 8,
   "metadata": {},
   "outputs": [
    {
     "data": {
      "text/plain": [
       "'Albertsons'"
      ]
     },
     "execution_count": 8,
     "metadata": {},
     "output_type": "execute_result"
    }
   ],
   "source": [
    "d1.rand_name()"
   ]
  },
  {
   "cell_type": "code",
   "execution_count": 9,
   "metadata": {},
   "outputs": [
    {
     "data": {
      "text/plain": [
       "'hNXBdFznEx'"
      ]
     },
     "execution_count": 9,
     "metadata": {},
     "output_type": "execute_result"
    }
   ],
   "source": [
    "d1.rand_description()"
   ]
  },
  {
   "cell_type": "code",
   "execution_count": 10,
   "metadata": {},
   "outputs": [
    {
     "data": {
      "text/plain": [
       "'555 Post Street'"
      ]
     },
     "execution_count": 10,
     "metadata": {},
     "output_type": "execute_result"
    }
   ],
   "source": [
    "d1.rand_address()"
   ]
  },
  {
   "cell_type": "code",
   "execution_count": 11,
   "metadata": {},
   "outputs": [
    {
     "data": {
      "text/plain": [
       "'San Francisco'"
      ]
     },
     "execution_count": 11,
     "metadata": {},
     "output_type": "execute_result"
    }
   ],
   "source": [
    "d1.rand_city()"
   ]
  },
  {
   "cell_type": "code",
   "execution_count": 12,
   "metadata": {},
   "outputs": [
    {
     "data": {
      "text/plain": [
       "15"
      ]
     },
     "execution_count": 12,
     "metadata": {},
     "output_type": "execute_result"
    }
   ],
   "source": [
    "d1.rand_lat()"
   ]
  },
  {
   "cell_type": "code",
   "execution_count": 13,
   "metadata": {},
   "outputs": [
    {
     "data": {
      "text/plain": [
       "10"
      ]
     },
     "execution_count": 13,
     "metadata": {},
     "output_type": "execute_result"
    }
   ],
   "source": [
    "d1.rand_lon()"
   ]
  },
  {
   "cell_type": "code",
   "execution_count": 14,
   "metadata": {},
   "outputs": [
    {
     "data": {
      "text/plain": [
       "'CA'"
      ]
     },
     "execution_count": 14,
     "metadata": {},
     "output_type": "execute_result"
    }
   ],
   "source": [
    "d1.rand_state()"
   ]
  },
  {
   "cell_type": "code",
   "execution_count": 15,
   "metadata": {},
   "outputs": [
    {
     "data": {
      "text/plain": [
       "94103"
      ]
     },
     "execution_count": 15,
     "metadata": {},
     "output_type": "execute_result"
    }
   ],
   "source": [
    "d1.rand_zip()"
   ]
  }
 ],
 "metadata": {
  "kernelspec": {
   "display_name": "Python 3",
   "language": "python",
   "name": "python3"
  },
  "language_info": {
   "codemirror_mode": {
    "name": "ipython",
    "version": 3
   },
   "file_extension": ".py",
   "mimetype": "text/x-python",
   "name": "python",
   "nbconvert_exporter": "python",
   "pygments_lexer": "ipython3",
   "version": "3.8.6"
  }
 },
 "nbformat": 4,
 "nbformat_minor": 4
}