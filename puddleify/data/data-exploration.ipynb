{
 "cells": [
  {
   "cell_type": "code",
   "execution_count": 1,
   "metadata": {},
   "outputs": [],
   "source": [
    "# Once we get access to the data.. if from database, we are good\n",
    "# if from JSON, we need to flatten it out meta is a dict inside the dict\n",
    "\n",
    "# df = pd.read_csv"
   ]
  },
  {
   "cell_type": "code",
   "execution_count": 2,
   "metadata": {},
   "outputs": [],
   "source": [
    "# Look at unique values in each column\n",
    "# df['column_header'].unique()"
   ]
  },
  {
   "cell_type": "code",
   "execution_count": 65,
   "metadata": {},
   "outputs": [],
   "source": [
    "import random\n",
    "import string\n",
    "import decimal\n",
    "import datetime\n",
    "\n",
    "class Dataset:\n",
    "\n",
    "    def __init__(self, rows, columns):\n",
    "        self.rows = rows\n",
    "        self.columns = columns\n",
    "        self.features = [\"amount\", \"category\", \"date\", \"name\", \"orginal_description\", \"address\", \"city\", \"lat\", \"lon\", \"state\", \"zip\"]\n",
    "        self.dataset = None\n",
    "\n",
    "    def create_empties(self):\n",
    "        ''' generate an empty dataset of rows r and columns c '''\n",
    "        empty_array = [[0]*self.columns]*self.rows\n",
    "        self.dataset = empty_array\n",
    "#         for index, item in enumerate(self.dataset):\n",
    "#             print(index, item)\n",
    "        return len(self.dataset)\n",
    "    \n",
    "    def rand_amount(self):\n",
    "        ''' generates a random amount between $2 and $250 '''\n",
    "        amount = float(decimal.Decimal(random.randrange(200, 25000))/100)\n",
    "        return amount\n",
    "    \n",
    "    def rand_category(self):\n",
    "        ''' generates random categories '''\n",
    "        categories = ['Toy', 'Grocery', 'Furniture', 'Auto', 'Loan', 'Shops', 'Computer Electronics', 'Food', 'Home Goods', 'Candy', 'Laundry', 'Rent']\n",
    "        category = random.choice(categories)\n",
    "        return category\n",
    "    \n",
    "    def rand_date(self):\n",
    "        start = datetime.datetime.now()\n",
    "        end = start + timedelta(days=365)\n",
    "        random_date = start + (end - start) * random.random()\n",
    "        return random_date\n",
    "    \n",
    "    def rand_name(self):\n",
    "        names = [\"Safeway\", \"Albertsons\", \"Kroger's\", \"Ralphs\", \"Best Buy\", \"Micro Center\", \"Pizza My Heart\", \"Veggie Grill\", \"Car Wash Classic\", \"7 Eleven\"]\n",
    "        name = random.choice(names)\n",
    "        return name\n",
    "    \n",
    "    def rand_description(self):\n",
    "        description = ''.join(random.choice(string.ascii_letters) for _ in range(10))\n",
    "        return description\n",
    "    \n",
    "    def rand_address(self):\n",
    "        we_just_gonna_use_one = \"555 Post Street\"\n",
    "        return we_just_gonna_use_one\n",
    "    \n",
    "    def rand_city(self):\n",
    "        just_one = \"San Francisco\"\n",
    "        return just_one\n",
    "    \n",
    "    def rand_lat(self):\n",
    "        return 15\n",
    "    \n",
    "    def rand_lon(self):\n",
    "        return 10\n",
    "    \n",
    "    def rand_city(self):\n",
    "        state = \"CA\"\n",
    "        return state\n",
    "    \n",
    "    def rand_zip(self):\n",
    "        return 94103"
   ]
  },
  {
   "cell_type": "code",
   "execution_count": 66,
   "metadata": {},
   "outputs": [],
   "source": [
    "d1 = Dataset(10,11)"
   ]
  },
  {
   "cell_type": "code",
   "execution_count": 67,
   "metadata": {},
   "outputs": [
    {
     "data": {
      "text/plain": [
       "10"
      ]
     },
     "execution_count": 67,
     "metadata": {},
     "output_type": "execute_result"
    }
   ],
   "source": [
    "d1.create_empties()"
   ]
  },
  {
   "cell_type": "code",
   "execution_count": 68,
   "metadata": {},
   "outputs": [
    {
     "data": {
      "text/plain": [
       "198.79"
      ]
     },
     "execution_count": 68,
     "metadata": {},
     "output_type": "execute_result"
    }
   ],
   "source": [
    "d1.rand_amount()"
   ]
  },
  {
   "cell_type": "code",
   "execution_count": 69,
   "metadata": {},
   "outputs": [
    {
     "data": {
      "text/plain": [
       "datetime.datetime(2021, 2, 14, 11, 15, 36, 448600)"
      ]
     },
     "execution_count": 69,
     "metadata": {},
     "output_type": "execute_result"
    }
   ],
   "source": [
    "d1.rand_date()"
   ]
  },
  {
   "cell_type": "code",
   "execution_count": 70,
   "metadata": {},
   "outputs": [
    {
     "data": {
      "text/plain": [
       "'Micro Center'"
      ]
     },
     "execution_count": 70,
     "metadata": {},
     "output_type": "execute_result"
    }
   ],
   "source": [
    "d1.rand_name()"
   ]
  },
  {
   "cell_type": "code",
   "execution_count": 71,
   "metadata": {},
   "outputs": [
    {
     "data": {
      "text/plain": [
       "'UOgvYRjMJz'"
      ]
     },
     "execution_count": 71,
     "metadata": {},
     "output_type": "execute_result"
    }
   ],
   "source": [
    "d1.rand_description()"
   ]
  },
  {
   "cell_type": "code",
   "execution_count": 72,
   "metadata": {},
   "outputs": [
    {
     "data": {
      "text/plain": [
       "'555 Post Street'"
      ]
     },
     "execution_count": 72,
     "metadata": {},
     "output_type": "execute_result"
    }
   ],
   "source": [
    "d1.rand_address()"
   ]
  },
  {
   "cell_type": "code",
   "execution_count": 73,
   "metadata": {},
   "outputs": [
    {
     "data": {
      "text/plain": [
       "'CA'"
      ]
     },
     "execution_count": 73,
     "metadata": {},
     "output_type": "execute_result"
    }
   ],
   "source": [
    "d1.rand_city()"
   ]
  },
  {
   "cell_type": "code",
   "execution_count": 74,
   "metadata": {},
   "outputs": [
    {
     "data": {
      "text/plain": [
       "15"
      ]
     },
     "execution_count": 74,
     "metadata": {},
     "output_type": "execute_result"
    }
   ],
   "source": [
    "d1.rand_lat()"
   ]
  },
  {
   "cell_type": "code",
   "execution_count": 75,
   "metadata": {},
   "outputs": [
    {
     "data": {
      "text/plain": [
       "10"
      ]
     },
     "execution_count": 75,
     "metadata": {},
     "output_type": "execute_result"
    }
   ],
   "source": [
    "d1.rand_lon()"
   ]
  },
  {
   "cell_type": "code",
   "execution_count": null,
   "metadata": {},
   "outputs": [],
   "source": [
    "d1.rand_city()"
   ]
  }
 ],
 "metadata": {
  "kernelspec": {
   "display_name": "Python 3",
   "language": "python",
   "name": "python3"
  },
  "language_info": {
   "codemirror_mode": {
    "name": "ipython",
    "version": 3
   },
   "file_extension": ".py",
   "mimetype": "text/x-python",
   "name": "python",
   "nbconvert_exporter": "python",
   "pygments_lexer": "ipython3",
   "version": "3.8.6"
  }
 },
 "nbformat": 4,
 "nbformat_minor": 4
}
