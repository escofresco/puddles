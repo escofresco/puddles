{
 "cells": [
  {
   "cell_type": "code",
   "execution_count": 1,
   "metadata": {},
   "outputs": [],
   "source": [
    "# Once we get access to the data.. if from database, we are good\n",
    "# if from JSON, we need to flatten it out meta is a dict inside the dict\n",
    "\n",
    "# df = pd.read_csv"
   ]
  },
  {
   "cell_type": "code",
   "execution_count": 2,
   "metadata": {},
   "outputs": [],
   "source": [
    "# Look at unique values in each column\n",
    "# df['column_header'].unique()"
   ]
  },
  {
   "cell_type": "code",
   "execution_count": 7,
   "metadata": {},
   "outputs": [],
   "source": [
    "import pandas as pd\n",
    "import random\n",
    "import string\n",
    "import decimal\n",
    "import datetime\n",
    "\n",
    "# We use this to generate datasets to train on!\n",
    "\n",
    "# Let's generate some data in a csv to train our model on\n",
    "\n",
    "# the dataset will have 12 attributes per item\n",
    "\n",
    "import pandas\n",
    "import random\n",
    "import string\n",
    "import decimal\n",
    "import datetime\n",
    "\n",
    "class Dataset:\n",
    "\n",
    "    def __init__(self, rows, columns):\n",
    "        self.rows = rows\n",
    "        self.columns = columns\n",
    "        self.features = [\"amount\", \"category\", \"date\", \"name\", \"orginal_description\", \"address\", \"city\", \"lat\", \"lon\", \"state\", \"zip\"]\n",
    "        self.dataset = []\n",
    "\n",
    "    def rand_amount(self):\n",
    "        ''' generates a random amount between $2 and $250 '''\n",
    "        amount = float(decimal.Decimal(random.randrange(200, 25000))/100)\n",
    "        return float(amount)\n",
    "    \n",
    "    def rand_category(self):\n",
    "        ''' generates random categories '''\n",
    "        categories = ['Toy', 'Grocery', 'Furniture', 'Auto', 'Loan', 'Shops', 'Computer Electronics', 'Food', 'Home Goods', 'Candy', 'Laundry', 'Rent']\n",
    "        category = random.choice(categories)\n",
    "        return str(category)\n",
    "    \n",
    "    def rand_date(self):\n",
    "        start = datetime.datetime.now()\n",
    "        end = start + datetime.timedelta(days=365)\n",
    "        random_date = start + (end - start) * random.random()\n",
    "        return random_date\n",
    "    \n",
    "    def rand_name(self):\n",
    "        names = [\"Safeway\", \"Albertsons\", \"Kroger's\", \"Ralphs\", \"Best Buy\", \"Micro Center\", \"Pizza My Heart\", \"Veggie Grill\", \"Car Wash Classic\", \"7 Eleven\"]\n",
    "        name = random.choice(names)\n",
    "        return str(name)\n",
    "    \n",
    "    def rand_description(self):\n",
    "        description = ''.join(random.choice(string.ascii_letters) for _ in range(10))\n",
    "        return str(description)\n",
    "    \n",
    "    def rand_address(self):\n",
    "        addy = random.choice([\"555 Post Street\", '''123 nowhere street''', '''229 asdfjk drive''', '''1234 woot street'''])\n",
    "        return str(addy)\n",
    "    \n",
    "    def rand_city(self):\n",
    "        city = random.choice([\"San Francisco\", \"Berkeley\", \"Los Angeles\", \"New York\", \"Philadelphia\", \"Boston\"])\n",
    "        return str(city)\n",
    "    \n",
    "    def rand_lat(self):\n",
    "        lat = random.randint(1, 100)\n",
    "        return int(lat)\n",
    "    \n",
    "    def rand_lon(self):\n",
    "        lat = random.randint(1, 100)\n",
    "        return str(lat)\n",
    "    \n",
    "    def rand_state(self):\n",
    "        state = random.choice([\"CA\", \"TX\", \"OR\", \"NV\", \"FL\", \"NY\", \"WY\"])\n",
    "        return str(state)\n",
    "    \n",
    "    def rand_zip(self):\n",
    "        zipc = 94013\n",
    "        return int(zipc)\n",
    "\n",
    "    def randomly_train(self):\n",
    "        puddle = str(random.choice(['Puddle 1', 'Puddle 2', 'Puddle 3', 'Puddle 4']))\n",
    "        return str(puddle)\n",
    "    \n",
    "    def fill_dataset(self):\n",
    "    \n",
    "        for j in range(self.rows):\n",
    "            for i in range(self.columns):\n",
    "                the_row = []\n",
    "                the_row.append(self.rand_amount())\n",
    "                the_row.append(self.rand_category())\n",
    "                the_row.append(self.rand_date())\n",
    "                the_row.append(self.rand_name())\n",
    "                the_row.append(self.rand_description())\n",
    "                the_row.append(self.rand_address())\n",
    "                the_row.append(self.rand_city())\n",
    "                the_row.append(self.rand_lat())\n",
    "                the_row.append(self.rand_lon())\n",
    "                the_row.append(self.rand_zip())\n",
    "                the_row.append(self.rand_state())\n",
    "                the_row.append(self.randomly_train())\n",
    "                self.dataset.append(the_row)\n",
    "\n",
    "        for index, item in enumerate(self.dataset):\n",
    "            print(index, item)\n",
    "\n",
    "        return\n",
    "                \n",
    "    def dataset_to_csv(self, name):\n",
    "        ''' save dataset to a csv '''\n",
    "        if len(self.dataset) < 1:\n",
    "            print(\"create dataset\")\n",
    "            return\n",
    "        df = pd.DataFrame(self.dataset)\n",
    "        df.to_csv(name+'.csv', index = True)\n",
    "        return    "
   ]
  },
  {
   "cell_type": "code",
   "execution_count": 8,
   "metadata": {},
   "outputs": [
    {
     "name": "stdout",
     "output_type": "stream",
     "text": [
      "0 [235.68, 'Auto', datetime.datetime(2021, 3, 27, 22, 30, 10, 628545), 'Safeway', 'NxZrnttNKn', '1234 woot street', 'Berkeley', 21, '58', 94013, 'OR', <bound method Dataset.randomly_train of <__main__.Dataset object at 0x11510ccd0>>]\n",
      "1 [22.94, 'Candy', datetime.datetime(2021, 8, 30, 3, 35, 31, 786581), \"Kroger's\", 'EYLHXZcmpk', '1234 woot street', 'Berkeley', 37, '37', 94013, 'FL', <bound method Dataset.randomly_train of <__main__.Dataset object at 0x11510ccd0>>]\n",
      "2 [67.87, 'Rent', datetime.datetime(2021, 12, 19, 0, 3, 5, 100335), 'Micro Center', 'fblqTTzxWR', '555 Post Street', 'Philadelphia', 94, '75', 94013, 'NV', <bound method Dataset.randomly_train of <__main__.Dataset object at 0x11510ccd0>>]\n",
      "3 [180.32, 'Laundry', datetime.datetime(2021, 7, 1, 4, 7, 43, 171481), 'Albertsons', 'HcItBQSezY', '229 asdfjk drive', 'San Francisco', 84, '13', 94013, 'NV', <bound method Dataset.randomly_train of <__main__.Dataset object at 0x11510ccd0>>]\n",
      "4 [195.73, 'Rent', datetime.datetime(2021, 9, 26, 16, 3, 44, 338317), 'Safeway', 'PwTgksPTHX', '1234 woot street', 'New York', 79, '27', 94013, 'OR', <bound method Dataset.randomly_train of <__main__.Dataset object at 0x11510ccd0>>]\n",
      "5 [223.46, 'Shops', datetime.datetime(2021, 9, 25, 8, 16, 54, 765280), 'Pizza My Heart', 'kYZjnFXleH', '1234 woot street', 'Philadelphia', 7, '19', 94013, 'WY', <bound method Dataset.randomly_train of <__main__.Dataset object at 0x11510ccd0>>]\n",
      "6 [245.77, 'Furniture', datetime.datetime(2021, 8, 1, 16, 3, 55, 699839), 'Best Buy', 'IdSjzFEjLy', '1234 woot street', 'San Francisco', 67, '86', 94013, 'NV', <bound method Dataset.randomly_train of <__main__.Dataset object at 0x11510ccd0>>]\n",
      "7 [209.56, 'Grocery', datetime.datetime(2021, 9, 13, 3, 44, 36, 508519), 'Car Wash Classic', 'ePjksJziIG', '229 asdfjk drive', 'Berkeley', 31, '81', 94013, 'OR', <bound method Dataset.randomly_train of <__main__.Dataset object at 0x11510ccd0>>]\n",
      "8 [229.47, 'Shops', datetime.datetime(2021, 2, 28, 1, 14, 14, 833054), 'Micro Center', 'cFKIUkYsza', '555 Post Street', 'San Francisco', 56, '61', 94013, 'NY', <bound method Dataset.randomly_train of <__main__.Dataset object at 0x11510ccd0>>]\n",
      "9 [114.06, 'Food', datetime.datetime(2022, 1, 3, 14, 2, 8, 193008), 'Ralphs', 'SAaLCIZwmH', '555 Post Street', 'Boston', 60, '12', 94013, 'FL', <bound method Dataset.randomly_train of <__main__.Dataset object at 0x11510ccd0>>]\n",
      "10 [31.63, 'Home Goods', datetime.datetime(2021, 10, 20, 12, 1, 3, 477990), 'Veggie Grill', 'RAFSAwvHUL', '123 nowhere street', 'Boston', 25, '49', 94013, 'CA', <bound method Dataset.randomly_train of <__main__.Dataset object at 0x11510ccd0>>]\n",
      "11 [225.13, 'Auto', datetime.datetime(2021, 7, 28, 4, 57, 33, 928086), 'Albertsons', 'PkwbFeySJx', '123 nowhere street', 'Berkeley', 28, '30', 94013, 'FL', <bound method Dataset.randomly_train of <__main__.Dataset object at 0x11510ccd0>>]\n",
      "12 [178.01, 'Auto', datetime.datetime(2021, 10, 4, 17, 42, 34, 569972), \"Kroger's\", 'mTAtKULDHR', '229 asdfjk drive', 'Los Angeles', 15, '37', 94013, 'OR', <bound method Dataset.randomly_train of <__main__.Dataset object at 0x11510ccd0>>]\n",
      "13 [17.51, 'Shops', datetime.datetime(2021, 5, 8, 2, 41, 10, 33387), \"Kroger's\", 'sDNHYwfZzf', '555 Post Street', 'Berkeley', 4, '60', 94013, 'CA', <bound method Dataset.randomly_train of <__main__.Dataset object at 0x11510ccd0>>]\n",
      "14 [61.26, 'Candy', datetime.datetime(2021, 10, 5, 14, 38, 57, 758930), 'Pizza My Heart', 'RMLYhcGhrP', '555 Post Street', 'Boston', 41, '13', 94013, 'OR', <bound method Dataset.randomly_train of <__main__.Dataset object at 0x11510ccd0>>]\n",
      "15 [216.91, 'Rent', datetime.datetime(2021, 6, 20, 10, 28, 39, 479417), 'Car Wash Classic', 'EzegQxdWtW', '1234 woot street', 'New York', 57, '46', 94013, 'FL', <bound method Dataset.randomly_train of <__main__.Dataset object at 0x11510ccd0>>]\n",
      "16 [95.23, 'Laundry', datetime.datetime(2021, 8, 14, 3, 6, 50, 435932), 'Veggie Grill', 'EhLZyyFahy', '123 nowhere street', 'New York', 93, '47', 94013, 'OR', <bound method Dataset.randomly_train of <__main__.Dataset object at 0x11510ccd0>>]\n",
      "17 [63.08, 'Home Goods', datetime.datetime(2022, 1, 7, 4, 57, 2, 764539), 'Micro Center', 'mWUwOymEzL', '555 Post Street', 'Los Angeles', 40, '29', 94013, 'FL', <bound method Dataset.randomly_train of <__main__.Dataset object at 0x11510ccd0>>]\n",
      "18 [125.4, 'Computer Electronics', datetime.datetime(2021, 7, 18, 10, 31, 31, 627070), \"Kroger's\", 'tdvbPrEpWj', '229 asdfjk drive', 'Los Angeles', 22, '26', 94013, 'FL', <bound method Dataset.randomly_train of <__main__.Dataset object at 0x11510ccd0>>]\n",
      "19 [165.34, 'Candy', datetime.datetime(2021, 4, 9, 23, 17, 7, 239716), 'Car Wash Classic', 'cqDFqQWJER', '229 asdfjk drive', 'Berkeley', 68, '72', 94013, 'WY', <bound method Dataset.randomly_train of <__main__.Dataset object at 0x11510ccd0>>]\n",
      "20 [90.01, 'Loan', datetime.datetime(2021, 3, 5, 13, 19, 35, 807430), '7 Eleven', 'auHxpLPujv', '555 Post Street', 'Berkeley', 58, '38', 94013, 'NV', <bound method Dataset.randomly_train of <__main__.Dataset object at 0x11510ccd0>>]\n",
      "21 [91.17, 'Auto', datetime.datetime(2021, 8, 22, 10, 0, 34, 946306), 'Micro Center', 'sEeUhLuKuY', '229 asdfjk drive', 'Philadelphia', 88, '19', 94013, 'TX', <bound method Dataset.randomly_train of <__main__.Dataset object at 0x11510ccd0>>]\n",
      "22 [50.07, 'Food', datetime.datetime(2021, 5, 5, 18, 2, 7, 669393), '7 Eleven', 'nHvgSwLQkU', '555 Post Street', 'Philadelphia', 35, '42', 94013, 'CA', <bound method Dataset.randomly_train of <__main__.Dataset object at 0x11510ccd0>>]\n",
      "23 [180.35, 'Auto', datetime.datetime(2021, 3, 3, 19, 15, 39, 623288), 'Pizza My Heart', 'djDazSbHAb', '229 asdfjk drive', 'San Francisco', 33, '7', 94013, 'TX', <bound method Dataset.randomly_train of <__main__.Dataset object at 0x11510ccd0>>]\n",
      "24 [92.47, 'Food', datetime.datetime(2021, 6, 13, 18, 31, 0, 91639), \"Kroger's\", 'rjJZBOHFYg', '229 asdfjk drive', 'San Francisco', 81, '32', 94013, 'CA', <bound method Dataset.randomly_train of <__main__.Dataset object at 0x11510ccd0>>]\n",
      "25 [247.19, 'Candy', datetime.datetime(2021, 4, 24, 0, 41, 37, 894888), 'Safeway', 'qpZKzgCyJc', '555 Post Street', 'New York', 37, '75', 94013, 'TX', <bound method Dataset.randomly_train of <__main__.Dataset object at 0x11510ccd0>>]\n",
      "26 [21.11, 'Home Goods', datetime.datetime(2021, 3, 19, 5, 42, 43, 222596), 'Pizza My Heart', 'ZPTJAHTXxQ', '123 nowhere street', 'Boston', 38, '31', 94013, 'OR', <bound method Dataset.randomly_train of <__main__.Dataset object at 0x11510ccd0>>]\n",
      "27 [155.2, 'Grocery', datetime.datetime(2021, 4, 9, 0, 53, 23, 443773), 'Veggie Grill', 'CbSxwgjCVG', '229 asdfjk drive', 'Berkeley', 93, '31', 94013, 'NY', <bound method Dataset.randomly_train of <__main__.Dataset object at 0x11510ccd0>>]\n",
      "28 [159.1, 'Loan', datetime.datetime(2021, 5, 22, 6, 11, 38, 832997), 'Albertsons', 'mEyXTPOMLy', '229 asdfjk drive', 'San Francisco', 34, '75', 94013, 'WY', <bound method Dataset.randomly_train of <__main__.Dataset object at 0x11510ccd0>>]\n",
      "29 [118.7, 'Computer Electronics', datetime.datetime(2021, 1, 27, 11, 51, 1, 396595), 'Car Wash Classic', 'rClNYNBBYC', '229 asdfjk drive', 'New York', 85, '26', 94013, 'FL', <bound method Dataset.randomly_train of <__main__.Dataset object at 0x11510ccd0>>]\n",
      "30 [80.67, 'Grocery', datetime.datetime(2021, 2, 4, 3, 46, 20, 801760), 'Pizza My Heart', 'YghjzxJzYd', '555 Post Street', 'Boston', 72, '80', 94013, 'NV', <bound method Dataset.randomly_train of <__main__.Dataset object at 0x11510ccd0>>]\n",
      "31 [70.41, 'Grocery', datetime.datetime(2021, 4, 27, 16, 47, 38, 915639), '7 Eleven', 'QfVRPHVBpQ', '229 asdfjk drive', 'San Francisco', 49, '76', 94013, 'NV', <bound method Dataset.randomly_train of <__main__.Dataset object at 0x11510ccd0>>]\n",
      "32 [215.98, 'Furniture', datetime.datetime(2021, 12, 29, 12, 52, 41, 424052), 'Ralphs', 'QPrhVSHeMp', '123 nowhere street', 'Berkeley', 94, '78', 94013, 'OR', <bound method Dataset.randomly_train of <__main__.Dataset object at 0x11510ccd0>>]\n",
      "33 [126.04, 'Auto', datetime.datetime(2021, 2, 15, 9, 26, 4, 534944), \"Kroger's\", 'xGWKnnkoBD', '1234 woot street', 'San Francisco', 1, '74', 94013, 'WY', <bound method Dataset.randomly_train of <__main__.Dataset object at 0x11510ccd0>>]\n",
      "34 [106.49, 'Laundry', datetime.datetime(2021, 9, 27, 7, 52, 25, 705267), 'Veggie Grill', 'NzBBSeeqMU', '123 nowhere street', 'San Francisco', 90, '50', 94013, 'WY', <bound method Dataset.randomly_train of <__main__.Dataset object at 0x11510ccd0>>]\n",
      "35 [28.02, 'Auto', datetime.datetime(2021, 10, 11, 13, 26, 24, 713139), 'Albertsons', 'NNGhHRKsTr', '229 asdfjk drive', 'Berkeley', 4, '31', 94013, 'CA', <bound method Dataset.randomly_train of <__main__.Dataset object at 0x11510ccd0>>]\n",
      "36 [249.17, 'Grocery', datetime.datetime(2021, 3, 20, 20, 53, 50, 958322), 'Albertsons', 'rmqUNrOSnf', '1234 woot street', 'Los Angeles', 68, '76', 94013, 'NY', <bound method Dataset.randomly_train of <__main__.Dataset object at 0x11510ccd0>>]\n",
      "37 [192.55, 'Toy', datetime.datetime(2021, 4, 9, 19, 19, 20, 351526), 'Pizza My Heart', 'eJZTYvFAkm', '229 asdfjk drive', 'New York', 59, '36', 94013, 'FL', <bound method Dataset.randomly_train of <__main__.Dataset object at 0x11510ccd0>>]\n",
      "38 [182.53, 'Rent', datetime.datetime(2022, 1, 5, 19, 21, 37, 10473), \"Kroger's\", 'MkDQOLHgJs', '1234 woot street', 'Philadelphia', 3, '11', 94013, 'FL', <bound method Dataset.randomly_train of <__main__.Dataset object at 0x11510ccd0>>]\n",
      "39 [124.57, 'Computer Electronics', datetime.datetime(2021, 10, 25, 19, 48, 39, 499272), 'Pizza My Heart', 'QiVudckHzn', '1234 woot street', 'Philadelphia', 52, '26', 94013, 'CA', <bound method Dataset.randomly_train of <__main__.Dataset object at 0x11510ccd0>>]\n",
      "40 [231.89, 'Rent', datetime.datetime(2021, 7, 7, 2, 20, 16, 953739), 'Veggie Grill', 'HZVbGtWVdw', '229 asdfjk drive', 'Los Angeles', 47, '73', 94013, 'WY', <bound method Dataset.randomly_train of <__main__.Dataset object at 0x11510ccd0>>]\n",
      "41 [51.09, 'Toy', datetime.datetime(2021, 4, 3, 10, 25, 4, 355483), 'Micro Center', 'ptZvPYnhhj', '1234 woot street', 'Berkeley', 63, '70', 94013, 'NY', <bound method Dataset.randomly_train of <__main__.Dataset object at 0x11510ccd0>>]\n",
      "42 [47.31, 'Food', datetime.datetime(2021, 7, 10, 19, 28, 4, 459393), 'Albertsons', 'HyohLUGKtK', '229 asdfjk drive', 'San Francisco', 2, '46', 94013, 'NY', <bound method Dataset.randomly_train of <__main__.Dataset object at 0x11510ccd0>>]\n",
      "43 [81.12, 'Food', datetime.datetime(2021, 2, 9, 19, 33, 5, 28574), 'Pizza My Heart', 'etwyHIolyi', '229 asdfjk drive', 'Philadelphia', 77, '21', 94013, 'OR', <bound method Dataset.randomly_train of <__main__.Dataset object at 0x11510ccd0>>]\n",
      "44 [154.65, 'Computer Electronics', datetime.datetime(2021, 4, 4, 19, 32, 52, 760939), 'Best Buy', 'UQerkCRrjQ', '229 asdfjk drive', 'New York', 68, '46', 94013, 'NY', <bound method Dataset.randomly_train of <__main__.Dataset object at 0x11510ccd0>>]\n",
      "45 [203.73, 'Home Goods', datetime.datetime(2021, 7, 31, 13, 35, 22, 189615), '7 Eleven', 'PCHMvPoNGg', '1234 woot street', 'Berkeley', 93, '2', 94013, 'FL', <bound method Dataset.randomly_train of <__main__.Dataset object at 0x11510ccd0>>]\n",
      "46 [111.68, 'Grocery', datetime.datetime(2021, 8, 14, 20, 14, 35, 884438), 'Safeway', 'TchJqiDtOo', '229 asdfjk drive', 'Philadelphia', 55, '55', 94013, 'OR', <bound method Dataset.randomly_train of <__main__.Dataset object at 0x11510ccd0>>]\n",
      "47 [31.99, 'Shops', datetime.datetime(2021, 3, 16, 19, 30, 47, 860694), '7 Eleven', 'GiJDoWIqPf', '555 Post Street', 'Philadelphia', 69, '32', 94013, 'NY', <bound method Dataset.randomly_train of <__main__.Dataset object at 0x11510ccd0>>]\n",
      "48 [95.6, 'Laundry', datetime.datetime(2021, 8, 14, 9, 47, 53, 554636), 'Best Buy', 'vqwAoCAKyb', '229 asdfjk drive', 'Berkeley', 20, '86', 94013, 'NV', <bound method Dataset.randomly_train of <__main__.Dataset object at 0x11510ccd0>>]\n",
      "49 [186.73, 'Toy', datetime.datetime(2021, 2, 4, 6, 58, 37, 258674), \"Kroger's\", 'YCbWkURaTi', '123 nowhere street', 'Los Angeles', 52, '8', 94013, 'CA', <bound method Dataset.randomly_train of <__main__.Dataset object at 0x11510ccd0>>]\n",
      "50 [240.49, 'Auto', datetime.datetime(2021, 5, 1, 15, 7, 43, 572368), 'Veggie Grill', 'LmDhAqcCmG', '123 nowhere street', 'San Francisco', 74, '46', 94013, 'NV', <bound method Dataset.randomly_train of <__main__.Dataset object at 0x11510ccd0>>]\n",
      "51 [136.24, 'Food', datetime.datetime(2021, 5, 23, 19, 10, 31, 338450), 'Best Buy', 'NqQNrMxbAb', '555 Post Street', 'San Francisco', 92, '16', 94013, 'NY', <bound method Dataset.randomly_train of <__main__.Dataset object at 0x11510ccd0>>]\n",
      "52 [67.9, 'Furniture', datetime.datetime(2021, 1, 22, 20, 9, 55, 650553), 'Car Wash Classic', 'QKYymHqFrk', '1234 woot street', 'Berkeley', 41, '54', 94013, 'OR', <bound method Dataset.randomly_train of <__main__.Dataset object at 0x11510ccd0>>]\n",
      "53 [128.86, 'Grocery', datetime.datetime(2021, 5, 3, 7, 16, 10, 184652), '7 Eleven', 'zAaBLnJaXd', '123 nowhere street', 'Philadelphia', 97, '35', 94013, 'NY', <bound method Dataset.randomly_train of <__main__.Dataset object at 0x11510ccd0>>]\n",
      "54 [185.12, 'Candy', datetime.datetime(2021, 5, 21, 13, 36, 2, 188156), 'Car Wash Classic', 'hldOmWOCqb', '555 Post Street', 'Berkeley', 78, '64', 94013, 'FL', <bound method Dataset.randomly_train of <__main__.Dataset object at 0x11510ccd0>>]\n",
      "55 [149.94, 'Shops', datetime.datetime(2021, 2, 7, 14, 37, 33, 558653), 'Albertsons', 'mhguVoukYQ', '229 asdfjk drive', 'Philadelphia', 99, '21', 94013, 'FL', <bound method Dataset.randomly_train of <__main__.Dataset object at 0x11510ccd0>>]\n",
      "56 [63.52, 'Computer Electronics', datetime.datetime(2021, 11, 17, 13, 36, 27, 568095), 'Best Buy', 'wEEOEYjcex', '555 Post Street', 'Boston', 50, '3', 94013, 'TX', <bound method Dataset.randomly_train of <__main__.Dataset object at 0x11510ccd0>>]\n",
      "57 [93.54, 'Home Goods', datetime.datetime(2021, 6, 1, 17, 7, 7, 762182), '7 Eleven', 'LvllxXNcOK', '123 nowhere street', 'Philadelphia', 78, '64', 94013, 'FL', <bound method Dataset.randomly_train of <__main__.Dataset object at 0x11510ccd0>>]\n",
      "58 [186.26, 'Candy', datetime.datetime(2021, 4, 14, 7, 40, 5, 618155), 'Best Buy', 'uyDMgCLmov', '123 nowhere street', 'San Francisco', 81, '15', 94013, 'FL', <bound method Dataset.randomly_train of <__main__.Dataset object at 0x11510ccd0>>]\n",
      "59 [209.19, 'Auto', datetime.datetime(2021, 11, 13, 15, 33, 14, 286621), 'Veggie Grill', 'FRygAZjKZG', '229 asdfjk drive', 'Los Angeles', 4, '13', 94013, 'NV', <bound method Dataset.randomly_train of <__main__.Dataset object at 0x11510ccd0>>]\n",
      "60 [27.45, 'Candy', datetime.datetime(2021, 3, 31, 7, 13, 21, 351128), 'Ralphs', 'cNwMNTsQzE', '229 asdfjk drive', 'Philadelphia', 50, '83', 94013, 'TX', <bound method Dataset.randomly_train of <__main__.Dataset object at 0x11510ccd0>>]\n",
      "61 [228.61, 'Rent', datetime.datetime(2021, 10, 22, 7, 3, 9, 962391), 'Ralphs', 'viXYgrXrLx', '229 asdfjk drive', 'New York', 26, '11', 94013, 'FL', <bound method Dataset.randomly_train of <__main__.Dataset object at 0x11510ccd0>>]\n",
      "62 [227.84, 'Toy', datetime.datetime(2021, 3, 1, 3, 30, 32, 757657), '7 Eleven', 'aubpIklNjM', '229 asdfjk drive', 'Boston', 89, '80', 94013, 'FL', <bound method Dataset.randomly_train of <__main__.Dataset object at 0x11510ccd0>>]\n",
      "63 [217.75, 'Laundry', datetime.datetime(2021, 10, 3, 22, 27, 5, 359465), 'Best Buy', 'NKkzNTOYIi', '1234 woot street', 'New York', 79, '80', 94013, 'CA', <bound method Dataset.randomly_train of <__main__.Dataset object at 0x11510ccd0>>]\n",
      "64 [31.25, 'Home Goods', datetime.datetime(2021, 1, 29, 23, 51, 14, 361422), '7 Eleven', 'osYuJdVNBH', '1234 woot street', 'San Francisco', 38, '5', 94013, 'TX', <bound method Dataset.randomly_train of <__main__.Dataset object at 0x11510ccd0>>]\n",
      "65 [117.25, 'Toy', datetime.datetime(2021, 1, 17, 12, 16, 5, 448743), 'Safeway', 'BQyEuZNWZp', '1234 woot street', 'New York', 35, '73', 94013, 'TX', <bound method Dataset.randomly_train of <__main__.Dataset object at 0x11510ccd0>>]\n",
      "66 [72.23, 'Laundry', datetime.datetime(2021, 12, 13, 3, 9, 39, 762231), 'Ralphs', 'YrvnclWwPK', '123 nowhere street', 'New York', 39, '67', 94013, 'WY', <bound method Dataset.randomly_train of <__main__.Dataset object at 0x11510ccd0>>]\n",
      "67 [242.65, 'Rent', datetime.datetime(2021, 4, 25, 9, 13, 29, 986710), 'Ralphs', 'piChuodOHx', '1234 woot street', 'Boston', 40, '35', 94013, 'NY', <bound method Dataset.randomly_train of <__main__.Dataset object at 0x11510ccd0>>]\n",
      "68 [239.35, 'Shops', datetime.datetime(2021, 3, 31, 17, 24, 37, 894218), \"Kroger's\", 'NBJllqoMog', '555 Post Street', 'Berkeley', 14, '75', 94013, 'TX', <bound method Dataset.randomly_train of <__main__.Dataset object at 0x11510ccd0>>]\n",
      "69 [127.04, 'Toy', datetime.datetime(2021, 6, 27, 16, 45, 29, 690567), 'Car Wash Classic', 'ReFHiFkEDh', '229 asdfjk drive', 'Boston', 37, '42', 94013, 'TX', <bound method Dataset.randomly_train of <__main__.Dataset object at 0x11510ccd0>>]\n",
      "70 [163.86, 'Loan', datetime.datetime(2021, 12, 28, 23, 39, 20, 285680), 'Micro Center', 'zcQZbScfGZ', '1234 woot street', 'New York', 60, '29', 94013, 'NV', <bound method Dataset.randomly_train of <__main__.Dataset object at 0x11510ccd0>>]\n",
      "71 [162.44, 'Laundry', datetime.datetime(2021, 1, 31, 9, 6, 59, 910664), 'Best Buy', 'AgGojVrBZd', '555 Post Street', 'Los Angeles', 58, '51', 94013, 'TX', <bound method Dataset.randomly_train of <__main__.Dataset object at 0x11510ccd0>>]\n",
      "72 [53.35, 'Food', datetime.datetime(2021, 8, 31, 14, 23, 14, 756844), 'Ralphs', 'wrmGvATZJr', '1234 woot street', 'Berkeley', 31, '4', 94013, 'TX', <bound method Dataset.randomly_train of <__main__.Dataset object at 0x11510ccd0>>]\n",
      "73 [176.94, 'Computer Electronics', datetime.datetime(2021, 9, 29, 22, 4, 44, 683240), 'Veggie Grill', 'ZeDnBzTJoJ', '123 nowhere street', 'Berkeley', 80, '68', 94013, 'TX', <bound method Dataset.randomly_train of <__main__.Dataset object at 0x11510ccd0>>]\n",
      "74 [31.65, 'Grocery', datetime.datetime(2021, 9, 17, 0, 53, 33, 804809), 'Pizza My Heart', 'NQOBjbJhmd', '555 Post Street', 'San Francisco', 32, '92', 94013, 'OR', <bound method Dataset.randomly_train of <__main__.Dataset object at 0x11510ccd0>>]\n",
      "75 [118.25, 'Toy', datetime.datetime(2021, 10, 15, 10, 13, 44, 885906), 'Safeway', 'oRfwXrVuxI', '1234 woot street', 'San Francisco', 23, '87', 94013, 'NV', <bound method Dataset.randomly_train of <__main__.Dataset object at 0x11510ccd0>>]\n",
      "76 [22.74, 'Food', datetime.datetime(2021, 4, 1, 18, 25, 50, 984090), 'Micro Center', 'xKwsXWhtRZ', '555 Post Street', 'San Francisco', 4, '14', 94013, 'OR', <bound method Dataset.randomly_train of <__main__.Dataset object at 0x11510ccd0>>]\n",
      "77 [24.11, 'Food', datetime.datetime(2021, 7, 18, 21, 51, 14, 279962), 'Pizza My Heart', 'XPMpOuPSks', '555 Post Street', 'Philadelphia', 44, '67', 94013, 'TX', <bound method Dataset.randomly_train of <__main__.Dataset object at 0x11510ccd0>>]\n",
      "78 [174.24, 'Loan', datetime.datetime(2021, 5, 8, 4, 7, 20, 581105), 'Ralphs', 'zFOzFqGabc', '1234 woot street', 'San Francisco', 59, '40', 94013, 'CA', <bound method Dataset.randomly_train of <__main__.Dataset object at 0x11510ccd0>>]\n",
      "79 [232.05, 'Candy', datetime.datetime(2021, 7, 14, 21, 53, 35, 12050), 'Micro Center', 'HeelPsicKu', '123 nowhere street', 'San Francisco', 62, '27', 94013, 'WY', <bound method Dataset.randomly_train of <__main__.Dataset object at 0x11510ccd0>>]\n",
      "80 [95.56, 'Auto', datetime.datetime(2021, 1, 26, 2, 58, 48, 505995), 'Albertsons', 'mXqdKRVMKV', '1234 woot street', 'Berkeley', 97, '82', 94013, 'NV', <bound method Dataset.randomly_train of <__main__.Dataset object at 0x11510ccd0>>]\n",
      "81 [211.79, 'Laundry', datetime.datetime(2021, 9, 24, 17, 20, 51, 222740), 'Pizza My Heart', 'gPCyAgKymu', '1234 woot street', 'San Francisco', 40, '4', 94013, 'NV', <bound method Dataset.randomly_train of <__main__.Dataset object at 0x11510ccd0>>]\n",
      "82 [142.49, 'Loan', datetime.datetime(2021, 5, 6, 13, 24, 3, 825100), 'Safeway', 'PPZFyydRid', '123 nowhere street', 'Boston', 48, '79', 94013, 'OR', <bound method Dataset.randomly_train of <__main__.Dataset object at 0x11510ccd0>>]\n",
      "83 [222.84, 'Auto', datetime.datetime(2021, 3, 13, 12, 26, 27, 550208), 'Safeway', 'ehJPSqxLap', '1234 woot street', 'New York', 12, '45', 94013, 'OR', <bound method Dataset.randomly_train of <__main__.Dataset object at 0x11510ccd0>>]\n",
      "84 [171.34, 'Food', datetime.datetime(2021, 1, 31, 21, 55, 11, 156209), 'Ralphs', 'QPsUXvXXpI', '229 asdfjk drive', 'San Francisco', 35, '52', 94013, 'CA', <bound method Dataset.randomly_train of <__main__.Dataset object at 0x11510ccd0>>]\n",
      "85 [152.16, 'Furniture', datetime.datetime(2021, 4, 19, 11, 0, 38, 271032), 'Car Wash Classic', 'ezUiMXdqZj', '1234 woot street', 'San Francisco', 34, '20', 94013, 'NY', <bound method Dataset.randomly_train of <__main__.Dataset object at 0x11510ccd0>>]\n",
      "86 [98.08, 'Computer Electronics', datetime.datetime(2021, 3, 3, 16, 26, 42, 837204), 'Pizza My Heart', 'OOJOoNSxex', '555 Post Street', 'Boston', 33, '95', 94013, 'FL', <bound method Dataset.randomly_train of <__main__.Dataset object at 0x11510ccd0>>]\n",
      "87 [60.3, 'Grocery', datetime.datetime(2021, 12, 1, 9, 38, 1, 833982), 'Ralphs', 'kWWxnCYhnL', '229 asdfjk drive', 'San Francisco', 66, '5', 94013, 'NY', <bound method Dataset.randomly_train of <__main__.Dataset object at 0x11510ccd0>>]\n",
      "88 [248.54, 'Furniture', datetime.datetime(2021, 10, 31, 7, 45, 10, 321292), 'Pizza My Heart', 'xvWJHIEUkv', '555 Post Street', 'Boston', 65, '26', 94013, 'FL', <bound method Dataset.randomly_train of <__main__.Dataset object at 0x11510ccd0>>]\n",
      "89 [77.53, 'Candy', datetime.datetime(2021, 7, 13, 20, 7, 4, 86799), 'Ralphs', 'YsuygHohYq', '123 nowhere street', 'New York', 80, '40', 94013, 'NV', <bound method Dataset.randomly_train of <__main__.Dataset object at 0x11510ccd0>>]\n",
      "90 [247.01, 'Shops', datetime.datetime(2021, 7, 13, 4, 30, 55, 342449), '7 Eleven', 'TXmrkbgYyn', '555 Post Street', 'New York', 52, '47', 94013, 'CA', <bound method Dataset.randomly_train of <__main__.Dataset object at 0x11510ccd0>>]\n",
      "91 [118.9, 'Furniture', datetime.datetime(2021, 2, 2, 6, 57, 2, 785750), 'Ralphs', 'xamRVImWcF', '229 asdfjk drive', 'Los Angeles', 70, '54', 94013, 'WY', <bound method Dataset.randomly_train of <__main__.Dataset object at 0x11510ccd0>>]\n",
      "92 [11.25, 'Loan', datetime.datetime(2021, 5, 22, 10, 7, 47, 646756), '7 Eleven', 'uUevEGhuet', '123 nowhere street', 'Philadelphia', 64, '89', 94013, 'TX', <bound method Dataset.randomly_train of <__main__.Dataset object at 0x11510ccd0>>]\n",
      "93 [234.49, 'Computer Electronics', datetime.datetime(2021, 2, 28, 9, 48, 47, 967320), 'Ralphs', 'ljBysuILAS', '123 nowhere street', 'Berkeley', 62, '76', 94013, 'TX', <bound method Dataset.randomly_train of <__main__.Dataset object at 0x11510ccd0>>]\n",
      "94 [42.83, 'Loan', datetime.datetime(2021, 6, 13, 17, 22, 50, 289784), 'Ralphs', 'OUJTqjXCjk', '123 nowhere street', 'New York', 76, '52', 94013, 'NY', <bound method Dataset.randomly_train of <__main__.Dataset object at 0x11510ccd0>>]\n",
      "95 [172.21, 'Shops', datetime.datetime(2021, 3, 27, 20, 55, 52, 625271), 'Veggie Grill', 'csASFCjFlr', '555 Post Street', 'San Francisco', 28, '96', 94013, 'WY', <bound method Dataset.randomly_train of <__main__.Dataset object at 0x11510ccd0>>]\n",
      "96 [90.84, 'Computer Electronics', datetime.datetime(2021, 9, 5, 19, 23, 1, 976523), 'Best Buy', 'HnioodwUAr', '123 nowhere street', 'New York', 71, '35', 94013, 'NY', <bound method Dataset.randomly_train of <__main__.Dataset object at 0x11510ccd0>>]\n",
      "97 [150.75, 'Grocery', datetime.datetime(2021, 5, 5, 21, 22, 17, 570661), 'Best Buy', 'GFZupDEwjj', '1234 woot street', 'Berkeley', 99, '33', 94013, 'NV', <bound method Dataset.randomly_train of <__main__.Dataset object at 0x11510ccd0>>]\n",
      "98 [134.54, 'Laundry', datetime.datetime(2021, 10, 27, 14, 44, 17, 768533), 'Veggie Grill', 'RxwJdpcrxS', '1234 woot street', 'Berkeley', 77, '93', 94013, 'NY', <bound method Dataset.randomly_train of <__main__.Dataset object at 0x11510ccd0>>]\n",
      "99 [100.7, 'Computer Electronics', datetime.datetime(2021, 1, 14, 4, 53, 22, 65998), \"Kroger's\", 'UzQYQAEZKC', '555 Post Street', 'Boston', 70, '82', 94013, 'TX', <bound method Dataset.randomly_train of <__main__.Dataset object at 0x11510ccd0>>]\n",
      "100 [141.68, 'Auto', datetime.datetime(2021, 4, 10, 1, 33, 33, 743319), 'Best Buy', 'uACPglERoP', '229 asdfjk drive', 'San Francisco', 77, '26', 94013, 'NY', <bound method Dataset.randomly_train of <__main__.Dataset object at 0x11510ccd0>>]\n",
      "101 [96.44, 'Candy', datetime.datetime(2021, 4, 3, 23, 17, 51, 814990), \"Kroger's\", 'CMdTHFnbih', '123 nowhere street', 'Berkeley', 65, '10', 94013, 'CA', <bound method Dataset.randomly_train of <__main__.Dataset object at 0x11510ccd0>>]\n",
      "102 [178.3, 'Toy', datetime.datetime(2021, 9, 21, 23, 22, 56, 66601), 'Car Wash Classic', 'rsoQDwmxuY', '1234 woot street', 'Berkeley', 96, '83', 94013, 'NY', <bound method Dataset.randomly_train of <__main__.Dataset object at 0x11510ccd0>>]\n",
      "103 [31.34, 'Grocery', datetime.datetime(2021, 5, 31, 4, 5, 8, 830568), 'Safeway', 'oXpBjcPVsr', '123 nowhere street', 'San Francisco', 29, '61', 94013, 'TX', <bound method Dataset.randomly_train of <__main__.Dataset object at 0x11510ccd0>>]\n",
      "104 [8.49, 'Toy', datetime.datetime(2021, 11, 2, 0, 48, 7, 677536), 'Albertsons', 'wjwztlRtcm', '123 nowhere street', 'Berkeley', 8, '55', 94013, 'NY', <bound method Dataset.randomly_train of <__main__.Dataset object at 0x11510ccd0>>]\n",
      "105 [133.51, 'Auto', datetime.datetime(2021, 2, 27, 5, 59, 1, 670702), 'Safeway', 'xbAqasIwlC', '229 asdfjk drive', 'New York', 64, '5', 94013, 'TX', <bound method Dataset.randomly_train of <__main__.Dataset object at 0x11510ccd0>>]\n",
      "106 [156.17, 'Laundry', datetime.datetime(2021, 6, 29, 4, 36, 11, 371651), 'Albertsons', 'ezCErNKPBJ', '555 Post Street', 'Boston', 94, '30', 94013, 'CA', <bound method Dataset.randomly_train of <__main__.Dataset object at 0x11510ccd0>>]\n",
      "107 [107.67, 'Home Goods', datetime.datetime(2021, 12, 29, 15, 47, 21, 554753), \"Kroger's\", 'vkhByaFcfF', '123 nowhere street', 'New York', 45, '29', 94013, 'NY', <bound method Dataset.randomly_train of <__main__.Dataset object at 0x11510ccd0>>]\n",
      "108 [4.32, 'Shops', datetime.datetime(2021, 4, 16, 1, 13, 21, 322011), 'Albertsons', 'EtbMxhofAn', '123 nowhere street', 'San Francisco', 43, '13', 94013, 'TX', <bound method Dataset.randomly_train of <__main__.Dataset object at 0x11510ccd0>>]\n",
      "109 [133.35, 'Laundry', datetime.datetime(2021, 7, 5, 5, 14, 14, 196876), 'Best Buy', 'WWfenEgYlC', '229 asdfjk drive', 'Berkeley', 6, '62', 94013, 'FL', <bound method Dataset.randomly_train of <__main__.Dataset object at 0x11510ccd0>>]\n"
     ]
    }
   ],
   "source": [
    "d2 = Dataset(10, 11)\n",
    "d2.fill_dataset()"
   ]
  },
  {
   "cell_type": "code",
   "execution_count": 7,
   "metadata": {},
   "outputs": [],
   "source": [
    "d2.dataset_to_csv('testing')"
   ]
  },
  {
   "cell_type": "code",
   "execution_count": 4,
   "metadata": {},
   "outputs": [],
   "source": [
    "d1 = Dataset(10,11)"
   ]
  },
  {
   "cell_type": "code",
   "execution_count": 5,
   "metadata": {},
   "outputs": [
    {
     "data": {
      "text/plain": [
       "10"
      ]
     },
     "execution_count": 5,
     "metadata": {},
     "output_type": "execute_result"
    }
   ],
   "source": [
    "d1.create_empties()"
   ]
  },
  {
   "cell_type": "code",
   "execution_count": 6,
   "metadata": {},
   "outputs": [
    {
     "data": {
      "text/plain": [
       "136.72"
      ]
     },
     "execution_count": 6,
     "metadata": {},
     "output_type": "execute_result"
    }
   ],
   "source": [
    "d1.rand_amount()"
   ]
  },
  {
   "cell_type": "code",
   "execution_count": 7,
   "metadata": {},
   "outputs": [
    {
     "data": {
      "text/plain": [
       "datetime.datetime(2021, 6, 21, 9, 55, 36, 296923)"
      ]
     },
     "execution_count": 7,
     "metadata": {},
     "output_type": "execute_result"
    }
   ],
   "source": [
    "d1.rand_date()"
   ]
  },
  {
   "cell_type": "code",
   "execution_count": 8,
   "metadata": {},
   "outputs": [
    {
     "data": {
      "text/plain": [
       "'Albertsons'"
      ]
     },
     "execution_count": 8,
     "metadata": {},
     "output_type": "execute_result"
    }
   ],
   "source": [
    "d1.rand_name()"
   ]
  },
  {
   "cell_type": "code",
   "execution_count": 9,
   "metadata": {},
   "outputs": [
    {
     "data": {
      "text/plain": [
       "'hNXBdFznEx'"
      ]
     },
     "execution_count": 9,
     "metadata": {},
     "output_type": "execute_result"
    }
   ],
   "source": [
    "d1.rand_description()"
   ]
  },
  {
   "cell_type": "code",
   "execution_count": 10,
   "metadata": {},
   "outputs": [
    {
     "data": {
      "text/plain": [
       "'555 Post Street'"
      ]
     },
     "execution_count": 10,
     "metadata": {},
     "output_type": "execute_result"
    }
   ],
   "source": [
    "d1.rand_address()"
   ]
  },
  {
   "cell_type": "code",
   "execution_count": 11,
   "metadata": {},
   "outputs": [
    {
     "data": {
      "text/plain": [
       "'San Francisco'"
      ]
     },
     "execution_count": 11,
     "metadata": {},
     "output_type": "execute_result"
    }
   ],
   "source": [
    "d1.rand_city()"
   ]
  },
  {
   "cell_type": "code",
   "execution_count": 12,
   "metadata": {},
   "outputs": [
    {
     "data": {
      "text/plain": [
       "15"
      ]
     },
     "execution_count": 12,
     "metadata": {},
     "output_type": "execute_result"
    }
   ],
   "source": [
    "d1.rand_lat()"
   ]
  },
  {
   "cell_type": "code",
   "execution_count": 13,
   "metadata": {},
   "outputs": [
    {
     "data": {
      "text/plain": [
       "10"
      ]
     },
     "execution_count": 13,
     "metadata": {},
     "output_type": "execute_result"
    }
   ],
   "source": [
    "d1.rand_lon()"
   ]
  },
  {
   "cell_type": "code",
   "execution_count": 14,
   "metadata": {},
   "outputs": [
    {
     "data": {
      "text/plain": [
       "'CA'"
      ]
     },
     "execution_count": 14,
     "metadata": {},
     "output_type": "execute_result"
    }
   ],
   "source": [
    "d1.rand_state()"
   ]
  },
  {
   "cell_type": "code",
   "execution_count": 15,
   "metadata": {},
   "outputs": [
    {
     "data": {
      "text/plain": [
       "94103"
      ]
     },
     "execution_count": 15,
     "metadata": {},
     "output_type": "execute_result"
    }
   ],
   "source": [
    "d1.rand_zip()"
   ]
  }
 ],
 "metadata": {
  "kernelspec": {
   "display_name": "Python 3",
   "language": "python",
   "name": "python3"
  },
  "language_info": {
   "codemirror_mode": {
    "name": "ipython",
    "version": 3
   },
   "file_extension": ".py",
   "mimetype": "text/x-python",
   "name": "python",
   "nbconvert_exporter": "python",
   "pygments_lexer": "ipython3",
   "version": "3.8.6"
  }
 },
 "nbformat": 4,
 "nbformat_minor": 4
}
