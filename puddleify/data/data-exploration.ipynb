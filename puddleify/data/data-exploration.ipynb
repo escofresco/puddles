{
 "cells": [
  {
   "cell_type": "code",
   "execution_count": 1,
   "metadata": {},
   "outputs": [],
   "source": [
    "# Once we get access to the data.. if from database, we are good\n",
    "# if from JSON, we need to flatten it out meta is a dict inside the dict\n",
    "\n",
    "# df = pd.read_csv"
   ]
  },
  {
   "cell_type": "code",
   "execution_count": 2,
   "metadata": {},
   "outputs": [],
   "source": [
    "# Look at unique values in each column\n",
    "# df['column_header'].unique()"
   ]
  },
  {
   "cell_type": "code",
   "execution_count": 1,
   "metadata": {},
   "outputs": [],
   "source": [
    "import pandas as pd\n",
    "import random\n",
    "import string\n",
    "import decimal\n",
    "import datetime\n",
    "\n",
    "class Dataset:\n",
    "\n",
    "    def __init__(self, rows, columns):\n",
    "        self.rows = rows\n",
    "        self.columns = columns\n",
    "        self.features = [\"amount\", \"category\", \"date\", \"name\", \"orginal_description\", \"address\", \"city\", \"lat\", \"lon\", \"state\", \"zip\", \"puddle\"]\n",
    "        self.dataset = []\n",
    "\n",
    "    def rand_amount(self):\n",
    "        ''' generates a random amount between $2 and $250 '''\n",
    "        amount = float(decimal.Decimal(random.randrange(200, 25000))/100)\n",
    "        return amount\n",
    "    \n",
    "    def rand_category(self):\n",
    "        ''' generates random categories '''\n",
    "        categories = ['Toy', 'Grocery', 'Furniture', 'Auto', 'Loan', 'Shops', 'Computer Electronics', 'Food', 'Home Goods', 'Candy', 'Laundry', 'Rent']\n",
    "        category = random.choice(categories)\n",
    "        return category\n",
    "    \n",
    "    def rand_date(self):\n",
    "        start = datetime.datetime.now()\n",
    "        end = start + datetime.timedelta(days=365)\n",
    "        random_date = start + (end - start) * random.random()\n",
    "        return random_date\n",
    "    \n",
    "    def rand_name(self):\n",
    "        names = [\"Safeway\", \"Albertsons\", \"Kroger's\", \"Ralphs\", \"Best Buy\", \"Micro Center\", \"Pizza My Heart\", \"Veggie Grill\", \"Car Wash Classic\", \"7 Eleven\"]\n",
    "        name = random.choice(names)\n",
    "        return name\n",
    "    \n",
    "    def rand_description(self):\n",
    "        description = ''.join(random.choice(string.ascii_letters) for _ in range(10))\n",
    "        return description\n",
    "    \n",
    "    def rand_address(self):\n",
    "        we_just_gonna_use_one = \"555 Post Street\"\n",
    "        return we_just_gonna_use_one\n",
    "    \n",
    "    def rand_city(self):\n",
    "        just_one = \"San Francisco\"\n",
    "        return just_one\n",
    "    \n",
    "    def rand_lat(self):\n",
    "        return 15\n",
    "    \n",
    "    def rand_lon(self):\n",
    "        return 10\n",
    "    \n",
    "    def rand_state(self):\n",
    "        state = \"CA\"\n",
    "        return state\n",
    "    \n",
    "    def rand_zip(self):\n",
    "        return 94103\n",
    "    \n",
    "    def fill_dataset(self):\n",
    "        \n",
    "        self.dataset.append(self.features)\n",
    "        \n",
    "        for j in range(self.rows):\n",
    "            for i in range(self.columns):\n",
    "                the_row = []\n",
    "                the_row.append(self.rand_amount())\n",
    "                the_row.append(self.rand_category())\n",
    "                the_row.append(self.rand_date())\n",
    "                the_row.append(self.rand_name())\n",
    "                the_row.append(self.rand_description())\n",
    "                the_row.append(self.rand_address())\n",
    "                the_row.append(self.rand_city())\n",
    "                the_row.append(self.rand_lat())\n",
    "                the_row.append(self.rand_lon())\n",
    "                the_row.append(self.rand_zip())\n",
    "                the_row.append(self.rand_state())\n",
    "                the_row.append(self.randomly_train())\n",
    "                self.dataset.append(the_row)\n",
    "\n",
    "        for index, item in enumerate(self.dataset):\n",
    "            print(item)\n",
    "        return\n",
    "    \n",
    "    def randomly_train(self):\n",
    "        puddle = random.choice(['Puddle 1', 'Puddle 2', 'Puddle 3', 'Puddle 4'])\n",
    "        return puddle\n",
    "                \n",
    "    def dataset_to_csv(self, name):\n",
    "        ''' save dataset to a csv '''\n",
    "        if len(self.dataset) < 1:\n",
    "            print(\"create dataset\")\n",
    "            return\n",
    "        df = pd.DataFrame(self.dataset)\n",
    "        df.to_csv(name+'.csv', index = True)\n",
    "        return    "
   ]
  },
  {
   "cell_type": "code",
   "execution_count": 3,
   "metadata": {},
   "outputs": [
    {
     "name": "stdout",
     "output_type": "stream",
     "text": [
      "['amount', 'category', 'date', 'name', 'orginal_description', 'address', 'city', 'lat', 'lon', 'state', 'zip', 'puddle']\n",
      "[102.0, 'Home Goods', datetime.datetime(2021, 4, 4, 19, 29, 31, 764435), \"Kroger's\", 'nutJmyfIyR', '555 Post Street', 'San Francisco', 15, 10, 94103, 'CA', 'Puddle 3']\n",
      "[208.2, 'Home Goods', datetime.datetime(2021, 3, 9, 0, 40, 35, 157872), 'Albertsons', 'nrCDsWCkER', '555 Post Street', 'San Francisco', 15, 10, 94103, 'CA', 'Puddle 1']\n",
      "[52.41, 'Furniture', datetime.datetime(2021, 4, 2, 20, 26, 26, 220145), 'Pizza My Heart', 'FKdZtCaHTt', '555 Post Street', 'San Francisco', 15, 10, 94103, 'CA', 'Puddle 1']\n",
      "[145.77, 'Loan', datetime.datetime(2021, 8, 6, 18, 45, 24, 2550), 'Ralphs', 'DVTtufgWUt', '555 Post Street', 'San Francisco', 15, 10, 94103, 'CA', 'Puddle 1']\n",
      "[109.56, 'Rent', datetime.datetime(2021, 6, 20, 4, 10, 42, 919073), 'Ralphs', 'CjMXKCnrkU', '555 Post Street', 'San Francisco', 15, 10, 94103, 'CA', 'Puddle 4']\n",
      "[233.13, 'Rent', datetime.datetime(2021, 2, 17, 19, 59, 12, 493856), 'Veggie Grill', 'YWSGveTyrj', '555 Post Street', 'San Francisco', 15, 10, 94103, 'CA', 'Puddle 2']\n",
      "[205.94, 'Rent', datetime.datetime(2021, 10, 31, 16, 53, 52, 817454), 'Best Buy', 'rFHtrmZWmW', '555 Post Street', 'San Francisco', 15, 10, 94103, 'CA', 'Puddle 3']\n",
      "[39.62, 'Toy', datetime.datetime(2021, 11, 6, 2, 54, 0, 795801), \"Kroger's\", 'BynHFJOHuU', '555 Post Street', 'San Francisco', 15, 10, 94103, 'CA', 'Puddle 2']\n",
      "[57.58, 'Loan', datetime.datetime(2021, 3, 20, 13, 32, 2, 651627), \"Kroger's\", 'BSaDuoESDx', '555 Post Street', 'San Francisco', 15, 10, 94103, 'CA', 'Puddle 2']\n",
      "[191.27, 'Furniture', datetime.datetime(2021, 8, 13, 14, 46, 49, 742950), \"Kroger's\", 'nqFUIIjSuc', '555 Post Street', 'San Francisco', 15, 10, 94103, 'CA', 'Puddle 3']\n",
      "[159.91, 'Toy', datetime.datetime(2021, 6, 9, 21, 55, 11, 760276), 'Best Buy', 'fTSNVTivEp', '555 Post Street', 'San Francisco', 15, 10, 94103, 'CA', 'Puddle 2']\n",
      "[248.0, 'Shops', datetime.datetime(2021, 3, 6, 1, 56, 2, 860645), 'Pizza My Heart', 'xlbCSQhilF', '555 Post Street', 'San Francisco', 15, 10, 94103, 'CA', 'Puddle 1']\n",
      "[183.0, 'Toy', datetime.datetime(2021, 5, 6, 8, 18, 51, 681553), 'Pizza My Heart', 'mBIvNkIcxW', '555 Post Street', 'San Francisco', 15, 10, 94103, 'CA', 'Puddle 1']\n",
      "[18.98, 'Loan', datetime.datetime(2021, 7, 14, 18, 56, 59, 520606), '7 Eleven', 'QrvMzaeMPO', '555 Post Street', 'San Francisco', 15, 10, 94103, 'CA', 'Puddle 3']\n",
      "[79.34, 'Home Goods', datetime.datetime(2021, 3, 3, 17, 43, 32, 920866), 'Veggie Grill', 'cOqaXUJGtw', '555 Post Street', 'San Francisco', 15, 10, 94103, 'CA', 'Puddle 3']\n",
      "[68.09, 'Grocery', datetime.datetime(2021, 8, 26, 11, 56, 49, 538220), 'Pizza My Heart', 'winrHasicC', '555 Post Street', 'San Francisco', 15, 10, 94103, 'CA', 'Puddle 3']\n",
      "[121.65, 'Food', datetime.datetime(2021, 4, 10, 16, 6, 39, 413159), 'Best Buy', 'TxsVDqkbbM', '555 Post Street', 'San Francisco', 15, 10, 94103, 'CA', 'Puddle 4']\n",
      "[93.75, 'Rent', datetime.datetime(2021, 10, 21, 3, 36, 26, 408366), 'Car Wash Classic', 'aahbwUnfOz', '555 Post Street', 'San Francisco', 15, 10, 94103, 'CA', 'Puddle 4']\n",
      "[120.97, 'Toy', datetime.datetime(2021, 11, 18, 18, 38, 47, 890369), 'Pizza My Heart', 'uDILMMvXjs', '555 Post Street', 'San Francisco', 15, 10, 94103, 'CA', 'Puddle 3']\n",
      "[116.64, 'Laundry', datetime.datetime(2021, 11, 26, 1, 23, 5, 56702), 'Ralphs', 'GfCppaYgmL', '555 Post Street', 'San Francisco', 15, 10, 94103, 'CA', 'Puddle 4']\n",
      "[157.17, 'Rent', datetime.datetime(2021, 6, 16, 14, 17, 33, 708406), 'Ralphs', 'xpQVRxzZUh', '555 Post Street', 'San Francisco', 15, 10, 94103, 'CA', 'Puddle 4']\n",
      "[168.5, 'Grocery', datetime.datetime(2021, 12, 3, 11, 14, 6, 278506), 'Pizza My Heart', 'WLGmcYtCDc', '555 Post Street', 'San Francisco', 15, 10, 94103, 'CA', 'Puddle 4']\n",
      "[138.65, 'Computer Electronics', datetime.datetime(2021, 2, 8, 5, 35, 55, 389890), 'Veggie Grill', 'iOGzUWPJXb', '555 Post Street', 'San Francisco', 15, 10, 94103, 'CA', 'Puddle 3']\n",
      "[94.48, 'Loan', datetime.datetime(2021, 8, 25, 13, 51, 27, 93667), 'Pizza My Heart', 'faIJzEjggz', '555 Post Street', 'San Francisco', 15, 10, 94103, 'CA', 'Puddle 1']\n",
      "[36.19, 'Loan', datetime.datetime(2021, 7, 23, 5, 6, 39, 781639), 'Best Buy', 'DoksfhejCZ', '555 Post Street', 'San Francisco', 15, 10, 94103, 'CA', 'Puddle 2']\n",
      "[242.15, 'Grocery', datetime.datetime(2021, 4, 10, 20, 22, 21, 373063), 'Ralphs', 'NzrjiLJymk', '555 Post Street', 'San Francisco', 15, 10, 94103, 'CA', 'Puddle 3']\n",
      "[38.0, 'Grocery', datetime.datetime(2021, 1, 13, 20, 1, 38, 319122), 'Albertsons', 'LaPdyohCrF', '555 Post Street', 'San Francisco', 15, 10, 94103, 'CA', 'Puddle 4']\n",
      "[101.44, 'Furniture', datetime.datetime(2021, 3, 27, 15, 35, 46, 85671), 'Pizza My Heart', 'MSwEISEiBj', '555 Post Street', 'San Francisco', 15, 10, 94103, 'CA', 'Puddle 3']\n",
      "[69.46, 'Grocery', datetime.datetime(2021, 11, 4, 22, 36, 42, 172637), 'Best Buy', 'OUmPUaQsOs', '555 Post Street', 'San Francisco', 15, 10, 94103, 'CA', 'Puddle 4']\n",
      "[217.19, 'Food', datetime.datetime(2021, 2, 8, 4, 1, 42, 69448), '7 Eleven', 'CcHszQDRvh', '555 Post Street', 'San Francisco', 15, 10, 94103, 'CA', 'Puddle 1']\n",
      "[217.47, 'Furniture', datetime.datetime(2021, 2, 16, 19, 22, 36, 827081), 'Albertsons', 'bIXdnDHDiC', '555 Post Street', 'San Francisco', 15, 10, 94103, 'CA', 'Puddle 4']\n",
      "[205.77, 'Toy', datetime.datetime(2021, 7, 16, 18, 18, 48, 202119), 'Micro Center', 'rrRLFCEsTO', '555 Post Street', 'San Francisco', 15, 10, 94103, 'CA', 'Puddle 1']\n",
      "[130.72, 'Toy', datetime.datetime(2021, 5, 26, 19, 2, 34, 11025), \"Kroger's\", 'DBzQUzZxFc', '555 Post Street', 'San Francisco', 15, 10, 94103, 'CA', 'Puddle 3']\n",
      "[240.68, 'Auto', datetime.datetime(2021, 5, 17, 15, 51, 5, 853027), 'Micro Center', 'XANuJNMavJ', '555 Post Street', 'San Francisco', 15, 10, 94103, 'CA', 'Puddle 2']\n",
      "[92.65, 'Computer Electronics', datetime.datetime(2021, 2, 18, 15, 7, 3, 490353), 'Pizza My Heart', 'FZddxMrMnR', '555 Post Street', 'San Francisco', 15, 10, 94103, 'CA', 'Puddle 4']\n",
      "[124.65, 'Auto', datetime.datetime(2021, 8, 8, 6, 29, 29, 335228), 'Pizza My Heart', 'TvChyjJJDt', '555 Post Street', 'San Francisco', 15, 10, 94103, 'CA', 'Puddle 3']\n",
      "[100.08, 'Computer Electronics', datetime.datetime(2021, 6, 24, 7, 26, 24, 107548), 'Micro Center', 'VRKnmETIca', '555 Post Street', 'San Francisco', 15, 10, 94103, 'CA', 'Puddle 2']\n",
      "[138.21, 'Rent', datetime.datetime(2021, 2, 22, 4, 29, 41, 399530), 'Best Buy', 'nSkitlBOwP', '555 Post Street', 'San Francisco', 15, 10, 94103, 'CA', 'Puddle 1']\n",
      "[10.76, 'Computer Electronics', datetime.datetime(2021, 10, 31, 10, 10, 41, 31011), 'Veggie Grill', 'sKsqWtbXmH', '555 Post Street', 'San Francisco', 15, 10, 94103, 'CA', 'Puddle 3']\n",
      "[23.88, 'Computer Electronics', datetime.datetime(2021, 8, 27, 3, 59, 33, 345621), '7 Eleven', 'jFLMQwaaqs', '555 Post Street', 'San Francisco', 15, 10, 94103, 'CA', 'Puddle 1']\n",
      "[235.76, 'Candy', datetime.datetime(2021, 12, 19, 5, 52, 50, 871495), 'Safeway', 'CafLVqCiBh', '555 Post Street', 'San Francisco', 15, 10, 94103, 'CA', 'Puddle 1']\n",
      "[121.2, 'Candy', datetime.datetime(2021, 1, 19, 10, 26, 17, 314024), 'Car Wash Classic', 'IBHzMcbvvx', '555 Post Street', 'San Francisco', 15, 10, 94103, 'CA', 'Puddle 4']\n",
      "[131.71, 'Grocery', datetime.datetime(2021, 4, 6, 20, 51, 20, 388121), 'Albertsons', 'XlOLykiJvu', '555 Post Street', 'San Francisco', 15, 10, 94103, 'CA', 'Puddle 3']\n",
      "[75.27, 'Computer Electronics', datetime.datetime(2021, 6, 12, 4, 20, 0, 697282), 'Micro Center', 'USOpSSOKLG', '555 Post Street', 'San Francisco', 15, 10, 94103, 'CA', 'Puddle 3']\n",
      "[60.08, 'Grocery', datetime.datetime(2021, 5, 24, 10, 28, 29, 986887), 'Veggie Grill', 'zJBjMlUEPf', '555 Post Street', 'San Francisco', 15, 10, 94103, 'CA', 'Puddle 2']\n",
      "[206.01, 'Loan', datetime.datetime(2021, 7, 29, 14, 38, 35, 848444), 'Best Buy', 'lgiEedNqwu', '555 Post Street', 'San Francisco', 15, 10, 94103, 'CA', 'Puddle 2']\n",
      "[13.09, 'Shops', datetime.datetime(2021, 12, 13, 2, 39, 41, 837324), 'Albertsons', 'HqhpGNWmHE', '555 Post Street', 'San Francisco', 15, 10, 94103, 'CA', 'Puddle 2']\n",
      "[176.87, 'Computer Electronics', datetime.datetime(2021, 6, 21, 5, 0, 41, 78997), 'Pizza My Heart', 'wLeEyEyUgD', '555 Post Street', 'San Francisco', 15, 10, 94103, 'CA', 'Puddle 3']\n",
      "[72.83, 'Laundry', datetime.datetime(2021, 3, 28, 3, 8, 20, 208971), 'Car Wash Classic', 'sBGVsbXtpw', '555 Post Street', 'San Francisco', 15, 10, 94103, 'CA', 'Puddle 2']\n",
      "[247.21, 'Loan', datetime.datetime(2021, 6, 3, 8, 4, 17, 815916), 'Micro Center', 'azijBbSeAB', '555 Post Street', 'San Francisco', 15, 10, 94103, 'CA', 'Puddle 4']\n",
      "[147.3, 'Home Goods', datetime.datetime(2021, 4, 23, 11, 34, 47, 823505), 'Safeway', 'hezjxGQvCp', '555 Post Street', 'San Francisco', 15, 10, 94103, 'CA', 'Puddle 1']\n",
      "[244.14, 'Computer Electronics', datetime.datetime(2021, 10, 8, 12, 19, 56, 936388), 'Best Buy', 'nGroqTkTHS', '555 Post Street', 'San Francisco', 15, 10, 94103, 'CA', 'Puddle 2']\n",
      "[125.13, 'Grocery', datetime.datetime(2021, 12, 23, 2, 6, 42, 67317), 'Car Wash Classic', 'eRHVuZOrWg', '555 Post Street', 'San Francisco', 15, 10, 94103, 'CA', 'Puddle 2']\n",
      "[106.56, 'Computer Electronics', datetime.datetime(2021, 2, 4, 17, 55, 28, 542054), 'Car Wash Classic', 'RudysNeYHt', '555 Post Street', 'San Francisco', 15, 10, 94103, 'CA', 'Puddle 4']\n",
      "[3.86, 'Grocery', datetime.datetime(2021, 7, 28, 10, 55, 7, 848774), 'Veggie Grill', 'asOUoFBEif', '555 Post Street', 'San Francisco', 15, 10, 94103, 'CA', 'Puddle 4']\n",
      "[40.38, 'Rent', datetime.datetime(2021, 3, 27, 4, 53, 45, 379650), \"Kroger's\", 'OgyIZcfZrw', '555 Post Street', 'San Francisco', 15, 10, 94103, 'CA', 'Puddle 1']\n",
      "[179.84, 'Shops', datetime.datetime(2021, 10, 13, 7, 21, 10, 131066), \"Kroger's\", 'vQFTEuMbHB', '555 Post Street', 'San Francisco', 15, 10, 94103, 'CA', 'Puddle 1']\n",
      "[69.3, 'Food', datetime.datetime(2021, 5, 26, 23, 2, 34, 128521), \"Kroger's\", 'KbdtSrXKoh', '555 Post Street', 'San Francisco', 15, 10, 94103, 'CA', 'Puddle 1']\n",
      "[172.21, 'Loan', datetime.datetime(2021, 11, 21, 18, 28, 28, 813163), 'Best Buy', 'sKKFeaREav', '555 Post Street', 'San Francisco', 15, 10, 94103, 'CA', 'Puddle 3']\n",
      "[89.77, 'Grocery', datetime.datetime(2021, 3, 2, 13, 24, 26, 773873), 'Pizza My Heart', 'gykBibyHAh', '555 Post Street', 'San Francisco', 15, 10, 94103, 'CA', 'Puddle 4']\n",
      "[210.96, 'Furniture', datetime.datetime(2021, 5, 1, 14, 9, 12, 974194), 'Veggie Grill', 'WaTARAvPzo', '555 Post Street', 'San Francisco', 15, 10, 94103, 'CA', 'Puddle 1']\n",
      "[196.59, 'Shops', datetime.datetime(2021, 3, 14, 2, 48, 34, 930680), 'Safeway', 'PyqgBJsEXH', '555 Post Street', 'San Francisco', 15, 10, 94103, 'CA', 'Puddle 4']\n",
      "[34.89, 'Auto', datetime.datetime(2021, 5, 5, 11, 58, 13, 61695), 'Pizza My Heart', 'GRFEUJmooP', '555 Post Street', 'San Francisco', 15, 10, 94103, 'CA', 'Puddle 3']\n",
      "[100.49, 'Loan', datetime.datetime(2021, 4, 27, 5, 10, 48, 54429), 'Ralphs', 'GmCiuyuwdS', '555 Post Street', 'San Francisco', 15, 10, 94103, 'CA', 'Puddle 1']\n",
      "[35.75, 'Auto', datetime.datetime(2021, 5, 3, 9, 49, 50, 477149), 'Veggie Grill', 'OwfANXPuxM', '555 Post Street', 'San Francisco', 15, 10, 94103, 'CA', 'Puddle 3']\n",
      "[155.88, 'Laundry', datetime.datetime(2021, 7, 30, 19, 7, 16, 960446), 'Best Buy', 'dRSFrbxCxq', '555 Post Street', 'San Francisco', 15, 10, 94103, 'CA', 'Puddle 4']\n",
      "[28.23, 'Rent', datetime.datetime(2021, 4, 17, 12, 11, 7, 768079), 'Micro Center', 'DrYBViDGIq', '555 Post Street', 'San Francisco', 15, 10, 94103, 'CA', 'Puddle 4']\n",
      "[56.66, 'Furniture', datetime.datetime(2021, 3, 12, 12, 49, 12, 258149), 'Car Wash Classic', 'XqkJAuPfVH', '555 Post Street', 'San Francisco', 15, 10, 94103, 'CA', 'Puddle 2']\n",
      "[32.51, 'Toy', datetime.datetime(2021, 3, 21, 11, 14, 45, 286562), 'Micro Center', 'yRjRLVzTmk', '555 Post Street', 'San Francisco', 15, 10, 94103, 'CA', 'Puddle 4']\n",
      "[58.21, 'Shops', datetime.datetime(2021, 5, 22, 23, 26, 34, 5464), 'Safeway', 'ndaSnXpzsE', '555 Post Street', 'San Francisco', 15, 10, 94103, 'CA', 'Puddle 4']\n",
      "[45.87, 'Auto', datetime.datetime(2021, 2, 12, 4, 45, 47, 800323), 'Pizza My Heart', 'hjUjnzBfFt', '555 Post Street', 'San Francisco', 15, 10, 94103, 'CA', 'Puddle 2']\n",
      "[75.96, 'Home Goods', datetime.datetime(2021, 8, 2, 10, 21, 25, 577952), \"Kroger's\", 'HCmdWoswqT', '555 Post Street', 'San Francisco', 15, 10, 94103, 'CA', 'Puddle 1']\n",
      "[211.76, 'Shops', datetime.datetime(2021, 4, 29, 8, 17, 42, 240056), 'Albertsons', 'FpARbdqiSg', '555 Post Street', 'San Francisco', 15, 10, 94103, 'CA', 'Puddle 3']\n",
      "[222.98, 'Laundry', datetime.datetime(2021, 3, 11, 14, 5, 41, 761557), 'Car Wash Classic', 'DfFAqasKTF', '555 Post Street', 'San Francisco', 15, 10, 94103, 'CA', 'Puddle 3']\n",
      "[34.91, 'Auto', datetime.datetime(2021, 10, 25, 13, 17, 32, 128109), 'Micro Center', 'jDWWKXpCco', '555 Post Street', 'San Francisco', 15, 10, 94103, 'CA', 'Puddle 2']\n",
      "[139.61, 'Shops', datetime.datetime(2021, 1, 15, 21, 48, 32, 183379), 'Pizza My Heart', 'IojnstpqSZ', '555 Post Street', 'San Francisco', 15, 10, 94103, 'CA', 'Puddle 1']\n",
      "[25.4, 'Loan', datetime.datetime(2021, 8, 30, 1, 34, 25, 978210), \"Kroger's\", 'rbiZWcmNdk', '555 Post Street', 'San Francisco', 15, 10, 94103, 'CA', 'Puddle 4']\n",
      "[175.71, 'Shops', datetime.datetime(2021, 2, 5, 3, 45, 37, 35387), 'Micro Center', 'vEvBUigvlE', '555 Post Street', 'San Francisco', 15, 10, 94103, 'CA', 'Puddle 1']\n",
      "[244.92, 'Toy', datetime.datetime(2021, 8, 29, 14, 22, 9, 603439), 'Car Wash Classic', 'BAIJnuwLDf', '555 Post Street', 'San Francisco', 15, 10, 94103, 'CA', 'Puddle 4']\n",
      "[58.14, 'Auto', datetime.datetime(2021, 12, 3, 17, 44, 16, 92933), 'Pizza My Heart', 'fHqRSNvXMe', '555 Post Street', 'San Francisco', 15, 10, 94103, 'CA', 'Puddle 1']\n",
      "[106.69, 'Furniture', datetime.datetime(2021, 12, 20, 13, 37, 39, 538174), 'Veggie Grill', 'QYVVUakKPo', '555 Post Street', 'San Francisco', 15, 10, 94103, 'CA', 'Puddle 1']\n",
      "[227.89, 'Toy', datetime.datetime(2021, 9, 14, 0, 4, 22, 305952), 'Albertsons', 'brIOUzjeQo', '555 Post Street', 'San Francisco', 15, 10, 94103, 'CA', 'Puddle 3']\n",
      "[63.83, 'Auto', datetime.datetime(2021, 1, 13, 17, 31, 25, 31855), 'Safeway', 'PYqNVALOjx', '555 Post Street', 'San Francisco', 15, 10, 94103, 'CA', 'Puddle 3']\n",
      "[90.89, 'Toy', datetime.datetime(2021, 4, 23, 1, 54, 11, 971202), 'Ralphs', 'LGfQnwRDtr', '555 Post Street', 'San Francisco', 15, 10, 94103, 'CA', 'Puddle 3']\n",
      "[122.99, 'Auto', datetime.datetime(2021, 2, 20, 5, 53, 51, 68137), \"Kroger's\", 'ehiPnfwGpv', '555 Post Street', 'San Francisco', 15, 10, 94103, 'CA', 'Puddle 2']\n",
      "[17.11, 'Grocery', datetime.datetime(2021, 3, 18, 7, 54, 3, 348788), 'Car Wash Classic', 'oMrwhCxMFG', '555 Post Street', 'San Francisco', 15, 10, 94103, 'CA', 'Puddle 4']\n",
      "[32.5, 'Computer Electronics', datetime.datetime(2021, 3, 25, 17, 28, 7, 928521), 'Veggie Grill', 'EBJEZzQUee', '555 Post Street', 'San Francisco', 15, 10, 94103, 'CA', 'Puddle 2']\n",
      "[182.58, 'Shops', datetime.datetime(2021, 7, 4, 6, 17, 1, 126557), 'Safeway', 'anixHgqAbK', '555 Post Street', 'San Francisco', 15, 10, 94103, 'CA', 'Puddle 4']\n",
      "[166.31, 'Auto', datetime.datetime(2021, 6, 25, 9, 10, 5, 501360), 'Car Wash Classic', 'OLGJXDxPBH', '555 Post Street', 'San Francisco', 15, 10, 94103, 'CA', 'Puddle 1']\n",
      "[21.69, 'Candy', datetime.datetime(2021, 4, 17, 12, 51, 51, 838964), 'Car Wash Classic', 'epCxPubjQx', '555 Post Street', 'San Francisco', 15, 10, 94103, 'CA', 'Puddle 2']\n",
      "[235.58, 'Grocery', datetime.datetime(2021, 12, 23, 16, 10, 55, 860118), 'Safeway', 'UAajigNSRZ', '555 Post Street', 'San Francisco', 15, 10, 94103, 'CA', 'Puddle 2']\n",
      "[23.9, 'Auto', datetime.datetime(2021, 12, 5, 22, 59, 31, 142229), '7 Eleven', 'tIIQAjbVBp', '555 Post Street', 'San Francisco', 15, 10, 94103, 'CA', 'Puddle 3']\n",
      "[92.14, 'Food', datetime.datetime(2021, 8, 15, 16, 6, 46, 601000), 'Safeway', 'cMdbUcImwl', '555 Post Street', 'San Francisco', 15, 10, 94103, 'CA', 'Puddle 1']\n",
      "[117.54, 'Rent', datetime.datetime(2021, 5, 15, 18, 50, 36, 662876), 'Albertsons', 'lwGtnAZdgp', '555 Post Street', 'San Francisco', 15, 10, 94103, 'CA', 'Puddle 3']\n",
      "[37.19, 'Shops', datetime.datetime(2021, 4, 10, 15, 4, 46, 652808), 'Safeway', 'ZvjbRrVSXs', '555 Post Street', 'San Francisco', 15, 10, 94103, 'CA', 'Puddle 3']\n",
      "[191.31, 'Food', datetime.datetime(2021, 10, 12, 14, 17, 22, 936352), 'Micro Center', 'ADXEAdYQpd', '555 Post Street', 'San Francisco', 15, 10, 94103, 'CA', 'Puddle 4']\n",
      "[82.55, 'Furniture', datetime.datetime(2021, 11, 18, 0, 19, 40, 564403), \"Kroger's\", 'OIdBIcFnjM', '555 Post Street', 'San Francisco', 15, 10, 94103, 'CA', 'Puddle 4']\n",
      "[175.03, 'Grocery', datetime.datetime(2021, 3, 21, 19, 16, 42, 989730), 'Micro Center', 'GwJSOYJUpt', '555 Post Street', 'San Francisco', 15, 10, 94103, 'CA', 'Puddle 3']\n",
      "[171.88, 'Grocery', datetime.datetime(2021, 2, 8, 19, 29, 9, 73446), 'Pizza My Heart', 'NSSCDarNmx', '555 Post Street', 'San Francisco', 15, 10, 94103, 'CA', 'Puddle 2']\n",
      "[45.1, 'Grocery', datetime.datetime(2021, 6, 18, 21, 36, 33, 46386), 'Best Buy', 'NXPxBVfoMe', '555 Post Street', 'San Francisco', 15, 10, 94103, 'CA', 'Puddle 4']\n",
      "[152.02, 'Rent', datetime.datetime(2021, 6, 29, 5, 28, 9, 781979), 'Best Buy', 'MMWddJGqWk', '555 Post Street', 'San Francisco', 15, 10, 94103, 'CA', 'Puddle 2']\n",
      "[240.55, 'Toy', datetime.datetime(2021, 3, 19, 12, 12, 2, 943213), 'Veggie Grill', 'qEGYGTLtcW', '555 Post Street', 'San Francisco', 15, 10, 94103, 'CA', 'Puddle 1']\n",
      "[231.7, 'Home Goods', datetime.datetime(2021, 6, 5, 19, 3, 8, 130438), 'Veggie Grill', 'EuTavyhOIS', '555 Post Street', 'San Francisco', 15, 10, 94103, 'CA', 'Puddle 3']\n",
      "[6.7, 'Laundry', datetime.datetime(2021, 2, 12, 15, 31, 22, 756032), \"Kroger's\", 'gyMoolAXVO', '555 Post Street', 'San Francisco', 15, 10, 94103, 'CA', 'Puddle 4']\n",
      "[82.61, 'Candy', datetime.datetime(2021, 12, 22, 20, 16, 37, 57984), 'Safeway', 'EtIFaFBrQI', '555 Post Street', 'San Francisco', 15, 10, 94103, 'CA', 'Puddle 1']\n",
      "[179.76, 'Grocery', datetime.datetime(2021, 6, 11, 22, 46, 51, 210105), '7 Eleven', 'nbSrJXUQSp', '555 Post Street', 'San Francisco', 15, 10, 94103, 'CA', 'Puddle 2']\n",
      "[181.8, 'Loan', datetime.datetime(2021, 4, 2, 17, 45, 16, 192425), 'Best Buy', 'sVFlXaDSJJ', '555 Post Street', 'San Francisco', 15, 10, 94103, 'CA', 'Puddle 3']\n",
      "[121.53, 'Furniture', datetime.datetime(2021, 11, 7, 15, 37, 56, 342249), 'Best Buy', 'HpoHhULACx', '555 Post Street', 'San Francisco', 15, 10, 94103, 'CA', 'Puddle 1']\n",
      "[56.92, 'Auto', datetime.datetime(2021, 4, 15, 13, 10, 46, 324857), 'Car Wash Classic', 'xffCBjCClh', '555 Post Street', 'San Francisco', 15, 10, 94103, 'CA', 'Puddle 4']\n",
      "[126.61, 'Shops', datetime.datetime(2021, 10, 23, 21, 45, 44, 365777), 'Veggie Grill', 'GvqPBGolAN', '555 Post Street', 'San Francisco', 15, 10, 94103, 'CA', 'Puddle 4']\n"
     ]
    }
   ],
   "source": [
    "d2 = Dataset(10, 11)\n",
    "d2.fill_dataset()"
   ]
  },
  {
   "cell_type": "code",
   "execution_count": 4,
   "metadata": {},
   "outputs": [],
   "source": [
    "d2.dataset_to_csv('testing')"
   ]
  },
  {
   "cell_type": "code",
   "execution_count": 4,
   "metadata": {},
   "outputs": [],
   "source": [
    "d1 = Dataset(10,11)"
   ]
  },
  {
   "cell_type": "code",
   "execution_count": 5,
   "metadata": {},
   "outputs": [
    {
     "data": {
      "text/plain": [
       "10"
      ]
     },
     "execution_count": 5,
     "metadata": {},
     "output_type": "execute_result"
    }
   ],
   "source": [
    "d1.create_empties()"
   ]
  },
  {
   "cell_type": "code",
   "execution_count": 6,
   "metadata": {},
   "outputs": [
    {
     "data": {
      "text/plain": [
       "136.72"
      ]
     },
     "execution_count": 6,
     "metadata": {},
     "output_type": "execute_result"
    }
   ],
   "source": [
    "d1.rand_amount()"
   ]
  },
  {
   "cell_type": "code",
   "execution_count": 7,
   "metadata": {},
   "outputs": [
    {
     "data": {
      "text/plain": [
       "datetime.datetime(2021, 6, 21, 9, 55, 36, 296923)"
      ]
     },
     "execution_count": 7,
     "metadata": {},
     "output_type": "execute_result"
    }
   ],
   "source": [
    "d1.rand_date()"
   ]
  },
  {
   "cell_type": "code",
   "execution_count": 8,
   "metadata": {},
   "outputs": [
    {
     "data": {
      "text/plain": [
       "'Albertsons'"
      ]
     },
     "execution_count": 8,
     "metadata": {},
     "output_type": "execute_result"
    }
   ],
   "source": [
    "d1.rand_name()"
   ]
  },
  {
   "cell_type": "code",
   "execution_count": 9,
   "metadata": {},
   "outputs": [
    {
     "data": {
      "text/plain": [
       "'hNXBdFznEx'"
      ]
     },
     "execution_count": 9,
     "metadata": {},
     "output_type": "execute_result"
    }
   ],
   "source": [
    "d1.rand_description()"
   ]
  },
  {
   "cell_type": "code",
   "execution_count": 10,
   "metadata": {},
   "outputs": [
    {
     "data": {
      "text/plain": [
       "'555 Post Street'"
      ]
     },
     "execution_count": 10,
     "metadata": {},
     "output_type": "execute_result"
    }
   ],
   "source": [
    "d1.rand_address()"
   ]
  },
  {
   "cell_type": "code",
   "execution_count": 11,
   "metadata": {},
   "outputs": [
    {
     "data": {
      "text/plain": [
       "'San Francisco'"
      ]
     },
     "execution_count": 11,
     "metadata": {},
     "output_type": "execute_result"
    }
   ],
   "source": [
    "d1.rand_city()"
   ]
  },
  {
   "cell_type": "code",
   "execution_count": 12,
   "metadata": {},
   "outputs": [
    {
     "data": {
      "text/plain": [
       "15"
      ]
     },
     "execution_count": 12,
     "metadata": {},
     "output_type": "execute_result"
    }
   ],
   "source": [
    "d1.rand_lat()"
   ]
  },
  {
   "cell_type": "code",
   "execution_count": 13,
   "metadata": {},
   "outputs": [
    {
     "data": {
      "text/plain": [
       "10"
      ]
     },
     "execution_count": 13,
     "metadata": {},
     "output_type": "execute_result"
    }
   ],
   "source": [
    "d1.rand_lon()"
   ]
  },
  {
   "cell_type": "code",
   "execution_count": 14,
   "metadata": {},
   "outputs": [
    {
     "data": {
      "text/plain": [
       "'CA'"
      ]
     },
     "execution_count": 14,
     "metadata": {},
     "output_type": "execute_result"
    }
   ],
   "source": [
    "d1.rand_state()"
   ]
  },
  {
   "cell_type": "code",
   "execution_count": 15,
   "metadata": {},
   "outputs": [
    {
     "data": {
      "text/plain": [
       "94103"
      ]
     },
     "execution_count": 15,
     "metadata": {},
     "output_type": "execute_result"
    }
   ],
   "source": [
    "d1.rand_zip()"
   ]
  }
 ],
 "metadata": {
  "kernelspec": {
   "display_name": "Python 3",
   "language": "python",
   "name": "python3"
  },
  "language_info": {
   "codemirror_mode": {
    "name": "ipython",
    "version": 3
   },
   "file_extension": ".py",
   "mimetype": "text/x-python",
   "name": "python",
   "nbconvert_exporter": "python",
   "pygments_lexer": "ipython3",
   "version": "3.8.6"
  }
 },
 "nbformat": 4,
 "nbformat_minor": 4
}