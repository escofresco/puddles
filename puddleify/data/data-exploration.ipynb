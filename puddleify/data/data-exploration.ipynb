{
 "cells": [
  {
   "cell_type": "code",
   "execution_count": 1,
   "metadata": {},
   "outputs": [],
   "source": [
    "# Once we get access to the data.. if from database, we are good\n",
    "# if from JSON, we need to flatten it out meta is a dict inside the dict\n",
    "\n",
    "# df = pd.read_csv"
   ]
  },
  {
   "cell_type": "code",
   "execution_count": 2,
   "metadata": {},
   "outputs": [],
   "source": [
    "# Look at unique values in each column\n",
    "# df['column_header'].unique()"
   ]
  },
  {
   "cell_type": "code",
   "execution_count": 5,
   "metadata": {},
   "outputs": [],
   "source": [
    "import pandas as pd\n",
    "import random\n",
    "import string\n",
    "import decimal\n",
    "import datetime\n",
    "\n",
    "# We use this to generate datasets to train on!\n",
    "\n",
    "# Let's generate some data in a csv to train our model on\n",
    "\n",
    "# the dataset will have 12 attributes per item\n",
    "\n",
    "import pandas\n",
    "import random\n",
    "import string\n",
    "import decimal\n",
    "import datetime\n",
    "\n",
    "class Dataset:\n",
    "\n",
    "    def __init__(self, rows, columns):\n",
    "        self.rows = rows\n",
    "        self.columns = columns\n",
    "        self.features = [\"amount\", \"category\", \"date\", \"name\", \"orginal_description\", \"address\", \"city\", \"lat\", \"lon\", \"state\", \"zip\"]\n",
    "        self.dataset = []\n",
    "\n",
    "    def rand_amount(self):\n",
    "        ''' generates a random amount between $2 and $250 '''\n",
    "        amount = float(decimal.Decimal(random.randrange(200, 25000))/100)\n",
    "        return float(amount)\n",
    "    \n",
    "    def rand_category(self):\n",
    "        ''' generates random categories '''\n",
    "        categories = ['Toy', 'Grocery', 'Furniture', 'Auto', 'Loan', 'Shops', 'Computer Electronics', 'Food', 'Home Goods', 'Candy', 'Laundry', 'Rent']\n",
    "        category = random.choice(categories)\n",
    "        return str(category)\n",
    "    \n",
    "    def rand_date(self):\n",
    "        start = datetime.datetime.now()\n",
    "        end = start + datetime.timedelta(days=365)\n",
    "        random_date = start + (end - start) * random.random()\n",
    "        return random_date\n",
    "    \n",
    "    def rand_name(self):\n",
    "        names = [\"Safeway\", \"Albertsons\", \"Kroger's\", \"Ralphs\", \"Best Buy\", \"Micro Center\", \"Pizza My Heart\", \"Veggie Grill\", \"Car Wash Classic\", \"7 Eleven\"]\n",
    "        name = random.choice(names)\n",
    "        return str(name)\n",
    "    \n",
    "    def rand_description(self):\n",
    "        description = ''.join(random.choice(string.ascii_letters) for _ in range(10))\n",
    "        return str(description)\n",
    "    \n",
    "    def rand_address(self):\n",
    "        addy = random.choice([\"555 Post Street\", '''123 nowhere street''', '''229 asdfjk drive''', '''1234 woot street'''])\n",
    "        return str(addy)\n",
    "    \n",
    "    def rand_city(self):\n",
    "        city = random.choice([\"San Francisco\", \"Berkeley\", \"Los Angeles\", \"New York\", \"Philadelphia\", \"Boston\"])\n",
    "        return str(city)\n",
    "    \n",
    "    def rand_lat(self):\n",
    "        lat = random.randint(1, 100)\n",
    "        return int(lat)\n",
    "    \n",
    "    def rand_lon(self):\n",
    "        lat = random.randint(1, 100)\n",
    "        return str(lat)\n",
    "    \n",
    "    def rand_state(self):\n",
    "        state = random.choice([\"CA\", \"TX\", \"OR\", \"NV\", \"FL\", \"NY\", \"WY\"])\n",
    "        return str(state)\n",
    "    \n",
    "    def rand_zip(self):\n",
    "        zipc = 94013\n",
    "        return int(zipc)\n",
    "    \n",
    "    def fill_dataset(self):\n",
    "    \n",
    "        for j in range(self.rows):\n",
    "            for i in range(self.columns):\n",
    "                the_row = []\n",
    "                the_row.append(self.rand_amount())\n",
    "                the_row.append(self.rand_category())\n",
    "                the_row.append(self.rand_date())\n",
    "                the_row.append(self.rand_name())\n",
    "                the_row.append(self.rand_description())\n",
    "                the_row.append(self.rand_address())\n",
    "                the_row.append(self.rand_city())\n",
    "                the_row.append(self.rand_lat())\n",
    "                the_row.append(self.rand_lon())\n",
    "                the_row.append(self.rand_zip())\n",
    "                the_row.append(self.rand_state())\n",
    "                self.dataset.append(the_row)\n",
    "\n",
    "        for index, item in enumerate(self.dataset):\n",
    "            print(index, item)\n",
    "\n",
    "        return\n",
    "    \n",
    "    def randomly_train(self):\n",
    "        puddle = random.choice(['Puddle 1', 'Puddle 2', 'Puddle 3', 'Puddle 4'])\n",
    "        return puddle\n",
    "                \n",
    "    def dataset_to_csv(self, name):\n",
    "        ''' save dataset to a csv '''\n",
    "        if len(self.dataset) < 1:\n",
    "            print(\"create dataset\")\n",
    "            return\n",
    "        df = pd.DataFrame(self.dataset)\n",
    "        df.to_csv(name+'.csv', index = True)\n",
    "        return    "
   ]
  },
  {
   "cell_type": "code",
   "execution_count": 6,
   "metadata": {},
   "outputs": [
    {
     "name": "stdout",
     "output_type": "stream",
     "text": [
      "0 [36.3, 'Grocery', datetime.datetime(2021, 12, 17, 12, 8, 48, 514012), 'Micro Center', 'dlrcSmmAJe', '1234 woot street', 'San Francisco', 17, '19', 94013, 'NV']\n",
      "1 [224.91, 'Rent', datetime.datetime(2021, 11, 9, 17, 29, 36, 564228), 'Veggie Grill', 'zfEZPUqLBA', '555 Post Street', 'New York', 86, '86', 94013, 'NY']\n",
      "2 [23.47, 'Rent', datetime.datetime(2021, 11, 30, 14, 32, 42, 38089), 'Safeway', 'TwoEWcWIJy', '1234 woot street', 'Boston', 69, '5', 94013, 'OR']\n",
      "3 [220.68, 'Toy', datetime.datetime(2021, 4, 9, 6, 21, 14, 970172), 'Best Buy', 'QYZnvwqSRx', '1234 woot street', 'Philadelphia', 35, '22', 94013, 'WY']\n",
      "4 [163.39, 'Auto', datetime.datetime(2021, 4, 7, 3, 38, 39, 377156), 'Ralphs', 'LLPKcjpUHR', '1234 woot street', 'Los Angeles', 8, '41', 94013, 'CA']\n",
      "5 [204.05, 'Candy', datetime.datetime(2021, 8, 12, 19, 15, 29, 684586), 'Safeway', 'bEWJpAHzEI', '123 nowhere street', 'Boston', 79, '84', 94013, 'CA']\n",
      "6 [168.55, 'Shops', datetime.datetime(2021, 6, 12, 7, 55, 6, 94906), 'Pizza My Heart', 'XqtgRLmwmT', '123 nowhere street', 'New York', 86, '45', 94013, 'TX']\n",
      "7 [136.21, 'Computer Electronics', datetime.datetime(2021, 8, 11, 4, 51, 45, 305245), 'Best Buy', 'UCabfgRnvz', '123 nowhere street', 'New York', 26, '33', 94013, 'OR']\n",
      "8 [113.06, 'Food', datetime.datetime(2021, 10, 9, 13, 25, 33, 765966), \"Kroger's\", 'vrTulIQsEM', '123 nowhere street', 'San Francisco', 60, '58', 94013, 'FL']\n",
      "9 [140.66, 'Shops', datetime.datetime(2021, 7, 17, 22, 10, 8, 523084), \"Kroger's\", 'FeUKePmHbW', '229 asdfjk drive', 'Los Angeles', 69, '64', 94013, 'FL']\n",
      "10 [49.59, 'Toy', datetime.datetime(2021, 10, 1, 8, 15, 54, 472146), '7 Eleven', 'vXmFESAyow', '555 Post Street', 'Berkeley', 66, '45', 94013, 'OR']\n",
      "11 [95.28, 'Shops', datetime.datetime(2021, 6, 23, 13, 50, 1, 710752), 'Albertsons', 'LACWzdLUtO', '1234 woot street', 'San Francisco', 12, '31', 94013, 'NY']\n",
      "12 [114.85, 'Auto', datetime.datetime(2021, 11, 28, 21, 8, 25, 119457), 'Car Wash Classic', 'rVpesPIWxD', '555 Post Street', 'New York', 21, '78', 94013, 'CA']\n",
      "13 [242.93, 'Grocery', datetime.datetime(2021, 12, 28, 5, 16, 34, 767192), 'Safeway', 'lAxXTByIgO', '1234 woot street', 'Boston', 81, '3', 94013, 'WY']\n",
      "14 [103.99, 'Shops', datetime.datetime(2021, 2, 3, 13, 41, 53, 166533), 'Pizza My Heart', 'iByDjDNRPX', '229 asdfjk drive', 'Berkeley', 25, '86', 94013, 'WY']\n",
      "15 [241.83, 'Furniture', datetime.datetime(2021, 3, 22, 8, 15, 42, 121842), 'Veggie Grill', 'ghLYAabacD', '229 asdfjk drive', 'Philadelphia', 34, '67', 94013, 'CA']\n",
      "16 [232.28, 'Food', datetime.datetime(2021, 3, 28, 12, 11, 25, 154667), 'Albertsons', 'tXeuZrhFLj', '555 Post Street', 'San Francisco', 60, '77', 94013, 'TX']\n",
      "17 [225.0, 'Auto', datetime.datetime(2021, 2, 18, 0, 56, 6, 871341), '7 Eleven', 'RbWlsArxkL', '123 nowhere street', 'Philadelphia', 51, '46', 94013, 'NV']\n",
      "18 [176.74, 'Loan', datetime.datetime(2021, 1, 14, 22, 49, 10, 358169), 'Ralphs', 'jYSVYjqOZL', '555 Post Street', 'New York', 4, '35', 94013, 'OR']\n",
      "19 [200.23, 'Furniture', datetime.datetime(2021, 11, 28, 1, 22, 57, 119416), \"Kroger's\", 'rbBZyGOsza', '123 nowhere street', 'Los Angeles', 91, '42', 94013, 'CA']\n",
      "20 [31.02, 'Laundry', datetime.datetime(2021, 2, 18, 3, 23, 36, 918275), 'Best Buy', 'WXOxAMzpVS', '1234 woot street', 'New York', 41, '56', 94013, 'FL']\n",
      "21 [170.18, 'Furniture', datetime.datetime(2021, 4, 3, 10, 22, 53, 792240), \"Kroger's\", 'yVnEpMEHVM', '229 asdfjk drive', 'San Francisco', 61, '82', 94013, 'OR']\n",
      "22 [52.48, 'Loan', datetime.datetime(2021, 7, 6, 2, 1, 36, 17709), 'Best Buy', 'UHkbctlKet', '555 Post Street', 'Philadelphia', 59, '35', 94013, 'WY']\n",
      "23 [9.59, 'Computer Electronics', datetime.datetime(2021, 6, 13, 2, 36, 26, 944580), 'Best Buy', 'jXvRHObvKD', '123 nowhere street', 'Boston', 82, '58', 94013, 'NY']\n",
      "24 [175.33, 'Grocery', datetime.datetime(2021, 1, 17, 13, 51, 16, 225575), 'Safeway', 'ziQPbosGVo', '123 nowhere street', 'Los Angeles', 64, '52', 94013, 'NY']\n",
      "25 [78.11, 'Loan', datetime.datetime(2021, 10, 20, 10, 25, 27, 789849), '7 Eleven', 'mGHybsmMRg', '1234 woot street', 'Philadelphia', 77, '58', 94013, 'FL']\n",
      "26 [218.27, 'Auto', datetime.datetime(2021, 5, 29, 22, 36, 23, 784429), 'Pizza My Heart', 'PpiQDcbnLe', '1234 woot street', 'Boston', 96, '88', 94013, 'TX']\n",
      "27 [224.42, 'Shops', datetime.datetime(2021, 4, 20, 21, 36, 53, 212707), 'Safeway', 'ACDwnInGao', '1234 woot street', 'Boston', 62, '83', 94013, 'FL']\n",
      "28 [99.72, 'Loan', datetime.datetime(2021, 5, 21, 8, 7, 2, 7848), 'Car Wash Classic', 'rNOgPKiPPN', '123 nowhere street', 'Boston', 77, '52', 94013, 'CA']\n",
      "29 [201.38, 'Candy', datetime.datetime(2021, 8, 29, 21, 6, 3, 786141), 'Safeway', 'UzdVNhvZAU', '555 Post Street', 'New York', 93, '56', 94013, 'FL']\n",
      "30 [247.29, 'Rent', datetime.datetime(2021, 10, 24, 22, 58, 13, 666355), 'Car Wash Classic', 'UoIVuSCVJD', '123 nowhere street', 'Berkeley', 16, '49', 94013, 'WY']\n",
      "31 [61.99, 'Loan', datetime.datetime(2021, 8, 12, 14, 16, 22, 532283), '7 Eleven', 'hvbamathWL', '1234 woot street', 'Boston', 18, '6', 94013, 'NV']\n",
      "32 [175.02, 'Auto', datetime.datetime(2021, 2, 2, 10, 56, 37, 362722), \"Kroger's\", 'ZvCMSAQdzM', '229 asdfjk drive', 'Philadelphia', 77, '12', 94013, 'TX']\n",
      "33 [217.82, 'Laundry', datetime.datetime(2021, 12, 22, 19, 21, 2, 285902), 'Pizza My Heart', 'AcwtaUkuvJ', '229 asdfjk drive', 'San Francisco', 93, '6', 94013, 'WY']\n",
      "34 [42.55, 'Furniture', datetime.datetime(2021, 7, 2, 14, 26, 31, 154618), 'Pizza My Heart', 'BClRsSdSht', '555 Post Street', 'Los Angeles', 33, '95', 94013, 'WY']\n",
      "35 [89.94, 'Rent', datetime.datetime(2021, 12, 28, 7, 51, 55, 477005), 'Micro Center', 'BinbLCLuig', '555 Post Street', 'San Francisco', 16, '99', 94013, 'WY']\n",
      "36 [219.44, 'Toy', datetime.datetime(2021, 11, 4, 13, 34, 53, 746425), 'Best Buy', 'yhHftWbDuy', '555 Post Street', 'Los Angeles', 97, '46', 94013, 'CA']\n",
      "37 [101.14, 'Loan', datetime.datetime(2021, 10, 19, 0, 10, 28, 630513), 'Car Wash Classic', 'gbvPNEUUbR', '1234 woot street', 'San Francisco', 21, '47', 94013, 'WY']\n",
      "38 [191.46, 'Furniture', datetime.datetime(2021, 6, 6, 16, 4, 15, 807142), 'Pizza My Heart', 'WgSQpriqVt', '1234 woot street', 'Philadelphia', 25, '15', 94013, 'TX']\n",
      "39 [93.52, 'Computer Electronics', datetime.datetime(2021, 12, 8, 22, 27, 6, 140638), 'Micro Center', 'tfAGzOUpno', '229 asdfjk drive', 'Boston', 28, '44', 94013, 'WY']\n",
      "40 [173.84, 'Food', datetime.datetime(2021, 11, 1, 1, 35, 15, 989095), 'Safeway', 'bDSjuwKQWg', '123 nowhere street', 'Philadelphia', 81, '77', 94013, 'WY']\n",
      "41 [120.73, 'Rent', datetime.datetime(2021, 5, 2, 17, 2, 39, 531041), 'Best Buy', 'ldiMCnoyUG', '123 nowhere street', 'Berkeley', 47, '50', 94013, 'WY']\n",
      "42 [5.88, 'Computer Electronics', datetime.datetime(2021, 3, 25, 22, 51, 44, 919016), 'Safeway', 'WrHDaQXghU', '229 asdfjk drive', 'New York', 11, '1', 94013, 'CA']\n",
      "43 [166.37, 'Shops', datetime.datetime(2021, 10, 4, 19, 28, 32, 72606), 'Ralphs', 'ktyhloQEVR', '123 nowhere street', 'Los Angeles', 37, '38', 94013, 'NV']\n",
      "44 [142.2, 'Home Goods', datetime.datetime(2022, 1, 1, 19, 10, 59, 202480), 'Best Buy', 'jTgDDRbHaf', '555 Post Street', 'Boston', 88, '88', 94013, 'NV']\n",
      "45 [133.92, 'Food', datetime.datetime(2022, 1, 8, 1, 45, 23, 750064), 'Car Wash Classic', 'NqcgDZcvBE', '229 asdfjk drive', 'Los Angeles', 61, '95', 94013, 'OR']\n",
      "46 [21.94, 'Home Goods', datetime.datetime(2021, 10, 25, 15, 12, 20, 28673), 'Best Buy', 'kpRKdcUVYm', '123 nowhere street', 'Berkeley', 11, '97', 94013, 'WY']\n",
      "47 [151.79, 'Home Goods', datetime.datetime(2021, 5, 2, 7, 12, 48, 751610), 'Veggie Grill', 'AZgsjZFmVV', '123 nowhere street', 'Boston', 19, '86', 94013, 'FL']\n",
      "48 [51.2, 'Loan', datetime.datetime(2021, 4, 16, 8, 53, 38, 225727), \"Kroger's\", 'eqWQyUfopC', '229 asdfjk drive', 'Berkeley', 84, '17', 94013, 'FL']\n",
      "49 [197.64, 'Rent', datetime.datetime(2021, 9, 14, 18, 40, 3, 18858), 'Safeway', 'XakoiTLOBT', '123 nowhere street', 'Berkeley', 80, '21', 94013, 'NY']\n",
      "50 [221.5, 'Candy', datetime.datetime(2021, 7, 7, 2, 3, 25, 508298), 'Best Buy', 'UYjPUmYphC', '123 nowhere street', 'Berkeley', 75, '14', 94013, 'NV']\n",
      "51 [198.65, 'Furniture', datetime.datetime(2021, 7, 6, 5, 4, 4, 356018), 'Ralphs', 'lgLZxtrpou', '123 nowhere street', 'New York', 67, '31', 94013, 'OR']\n",
      "52 [85.12, 'Home Goods', datetime.datetime(2021, 7, 23, 15, 40, 56, 859553), '7 Eleven', 'cCjouCSpMb', '555 Post Street', 'Boston', 12, '24', 94013, 'OR']\n",
      "53 [143.79, 'Grocery', datetime.datetime(2021, 2, 4, 23, 2, 31, 315192), 'Ralphs', 'XTZeehQJSD', '1234 woot street', 'San Francisco', 86, '59', 94013, 'NV']\n",
      "54 [170.1, 'Loan', datetime.datetime(2021, 10, 11, 11, 18, 23, 337711), 'Micro Center', 'XmlWVpMgFs', '229 asdfjk drive', 'Boston', 28, '84', 94013, 'NY']\n",
      "55 [190.1, 'Computer Electronics', datetime.datetime(2021, 9, 30, 3, 58, 38, 910440), 'Micro Center', 'GCRYXYjslt', '1234 woot street', 'San Francisco', 88, '85', 94013, 'TX']\n",
      "56 [87.68, 'Home Goods', datetime.datetime(2021, 12, 22, 19, 34, 46, 969998), 'Pizza My Heart', 'UlneSFQgKk', '229 asdfjk drive', 'Boston', 54, '11', 94013, 'FL']\n",
      "57 [47.84, 'Food', datetime.datetime(2021, 10, 5, 11, 58, 2, 822138), 'Veggie Grill', 'dXLvByXWnM', '1234 woot street', 'New York', 84, '89', 94013, 'TX']\n",
      "58 [84.15, 'Furniture', datetime.datetime(2021, 7, 26, 21, 38, 36, 328364), 'Best Buy', 'yvZoMOqHpH', '555 Post Street', 'Boston', 87, '24', 94013, 'WY']\n",
      "59 [207.12, 'Computer Electronics', datetime.datetime(2021, 2, 22, 20, 53, 18, 952113), 'Ralphs', 'vLfWIHDikk', '123 nowhere street', 'New York', 54, '60', 94013, 'CA']\n",
      "60 [131.74, 'Shops', datetime.datetime(2021, 9, 2, 12, 19, 31, 291176), 'Car Wash Classic', 'ktQlYUiPUk', '555 Post Street', 'San Francisco', 26, '93', 94013, 'NY']\n",
      "61 [216.43, 'Toy', datetime.datetime(2021, 2, 15, 19, 22, 5, 267763), 'Pizza My Heart', 'tZmpWMrvUk', '555 Post Street', 'Berkeley', 56, '10', 94013, 'WY']\n",
      "62 [99.52, 'Laundry', datetime.datetime(2021, 11, 6, 17, 29, 37, 202218), 'Ralphs', 'fmrAKtIYwj', '1234 woot street', 'New York', 46, '69', 94013, 'WY']\n",
      "63 [90.4, 'Shops', datetime.datetime(2021, 10, 10, 23, 47, 47, 653531), 'Best Buy', 'urJOhUafBs', '123 nowhere street', 'San Francisco', 54, '93', 94013, 'FL']\n",
      "64 [43.41, 'Laundry', datetime.datetime(2021, 9, 2, 13, 50, 50, 785292), 'Safeway', 'bIPIvZyEuD', '555 Post Street', 'Boston', 93, '5', 94013, 'FL']\n",
      "65 [69.37, 'Loan', datetime.datetime(2021, 5, 31, 21, 14, 55, 46539), \"Kroger's\", 'gwEcTVCFSd', '555 Post Street', 'Berkeley', 79, '11', 94013, 'TX']\n",
      "66 [62.06, 'Food', datetime.datetime(2022, 1, 3, 13, 53, 57, 41057), 'Micro Center', 'cVCCbmEcCB', '123 nowhere street', 'New York', 71, '67', 94013, 'OR']\n",
      "67 [243.67, 'Food', datetime.datetime(2021, 7, 1, 14, 38, 30, 131975), 'Best Buy', 'rWteKtlqOi', '123 nowhere street', 'San Francisco', 94, '32', 94013, 'FL']\n",
      "68 [22.97, 'Auto', datetime.datetime(2021, 12, 23, 18, 12, 44, 476770), 'Micro Center', 'aGDuIsJSUN', '555 Post Street', 'San Francisco', 100, '4', 94013, 'NY']\n",
      "69 [54.13, 'Loan', datetime.datetime(2021, 5, 24, 2, 32, 38, 337637), 'Pizza My Heart', 'iqcUZIjYQP', '555 Post Street', 'Boston', 81, '99', 94013, 'OR']\n",
      "70 [203.18, 'Computer Electronics', datetime.datetime(2021, 11, 27, 3, 56, 25, 2673), '7 Eleven', 'GSWwPeXKBq', '555 Post Street', 'Boston', 11, '92', 94013, 'NV']\n",
      "71 [82.08, 'Food', datetime.datetime(2021, 5, 12, 15, 50, 51, 233572), 'Ralphs', 'QWxUlMapxe', '123 nowhere street', 'Berkeley', 94, '31', 94013, 'OR']\n",
      "72 [183.77, 'Auto', datetime.datetime(2021, 5, 26, 15, 41, 34, 625225), 'Veggie Grill', 'hpVeURXlMG', '555 Post Street', 'New York', 44, '36', 94013, 'CA']\n",
      "73 [212.3, 'Toy', datetime.datetime(2021, 3, 3, 21, 34, 9, 895072), 'Pizza My Heart', 'SfIfeCwkDE', '229 asdfjk drive', 'New York', 62, '51', 94013, 'TX']\n",
      "74 [240.47, 'Toy', datetime.datetime(2021, 4, 2, 0, 24, 54, 136020), 'Safeway', 'WtmXycrKrb', '1234 woot street', 'New York', 3, '84', 94013, 'FL']\n",
      "75 [120.35, 'Laundry', datetime.datetime(2021, 8, 13, 14, 1, 47, 986946), 'Micro Center', 'EBNIWSocbi', '123 nowhere street', 'Los Angeles', 45, '69', 94013, 'NY']\n",
      "76 [65.47, 'Grocery', datetime.datetime(2021, 3, 31, 1, 36, 14, 329559), 'Veggie Grill', 'OzbZtwmIxD', '229 asdfjk drive', 'San Francisco', 64, '97', 94013, 'OR']\n",
      "77 [138.89, 'Rent', datetime.datetime(2022, 1, 6, 1, 6, 30, 565698), \"Kroger's\", 'VKJhoSnFyF', '229 asdfjk drive', 'New York', 91, '68', 94013, 'NV']\n",
      "78 [227.12, 'Laundry', datetime.datetime(2021, 12, 8, 6, 50, 46, 276038), \"Kroger's\", 'PUuCYcguvh', '555 Post Street', 'Los Angeles', 93, '78', 94013, 'CA']\n",
      "79 [114.73, 'Loan', datetime.datetime(2021, 7, 10, 15, 1, 27, 724830), '7 Eleven', 'Tohakgygtz', '123 nowhere street', 'New York', 49, '61', 94013, 'TX']\n",
      "80 [70.64, 'Food', datetime.datetime(2021, 10, 3, 23, 56, 37, 584722), \"Kroger's\", 'hjcFSMuUBP', '123 nowhere street', 'Berkeley', 45, '12', 94013, 'CA']\n",
      "81 [161.84, 'Furniture', datetime.datetime(2021, 3, 27, 8, 40, 28, 268678), 'Car Wash Classic', 'pbvgoEnyTQ', '229 asdfjk drive', 'San Francisco', 84, '45', 94013, 'WY']\n",
      "82 [40.81, 'Laundry', datetime.datetime(2021, 5, 5, 8, 48, 17, 43305), 'Best Buy', 'fFbPILNvxg', '1234 woot street', 'San Francisco', 65, '24', 94013, 'CA']\n",
      "83 [80.79, 'Shops', datetime.datetime(2021, 6, 8, 9, 58, 1, 189561), 'Veggie Grill', 'GAwpiqwqub', '555 Post Street', 'Boston', 8, '97', 94013, 'NV']\n",
      "84 [227.01, 'Loan', datetime.datetime(2021, 11, 8, 22, 41, 56, 327244), 'Micro Center', 'etcNzYMcTs', '229 asdfjk drive', 'Berkeley', 74, '43', 94013, 'NY']\n",
      "85 [122.3, 'Computer Electronics', datetime.datetime(2021, 12, 14, 1, 19, 16, 375047), 'Albertsons', 'YjOIvONusG', '229 asdfjk drive', 'Philadelphia', 86, '64', 94013, 'TX']\n",
      "86 [222.47, 'Loan', datetime.datetime(2021, 1, 30, 22, 17, 41, 509318), 'Pizza My Heart', 'BuDNIAQBQH', '1234 woot street', 'Philadelphia', 61, '37', 94013, 'OR']\n",
      "87 [87.51, 'Rent', datetime.datetime(2022, 1, 9, 4, 37, 44, 501399), 'Micro Center', 'hefgfbPUvW', '1234 woot street', 'Philadelphia', 30, '14', 94013, 'NV']\n",
      "88 [171.29, 'Shops', datetime.datetime(2021, 11, 19, 23, 25, 2, 354314), 'Safeway', 'AKmLSgOiwP', '229 asdfjk drive', 'Los Angeles', 50, '32', 94013, 'WY']\n",
      "89 [178.03, 'Rent', datetime.datetime(2021, 10, 1, 15, 31, 41, 770322), '7 Eleven', 'VZrSsYWsmM', '123 nowhere street', 'Los Angeles', 79, '86', 94013, 'CA']\n",
      "90 [79.47, 'Grocery', datetime.datetime(2021, 4, 2, 7, 25, 33, 281346), 'Safeway', 'chdmApyjPh', '1234 woot street', 'Philadelphia', 31, '88', 94013, 'WY']\n",
      "91 [125.34, 'Furniture', datetime.datetime(2021, 8, 2, 23, 55, 20, 643880), 'Ralphs', 'AgFVjwSijF', '555 Post Street', 'Berkeley', 82, '67', 94013, 'CA']\n",
      "92 [129.65, 'Shops', datetime.datetime(2021, 10, 22, 7, 0, 0, 365411), \"Kroger's\", 'iUhHmLvXqd', '555 Post Street', 'San Francisco', 8, '39', 94013, 'WY']\n",
      "93 [114.94, 'Computer Electronics', datetime.datetime(2021, 12, 24, 13, 56, 7, 806825), '7 Eleven', 'KRRaNzPXka', '1234 woot street', 'Philadelphia', 19, '72', 94013, 'WY']\n",
      "94 [86.98, 'Home Goods', datetime.datetime(2021, 10, 28, 2, 39, 40, 488686), 'Veggie Grill', 'STgCbaEaqO', '555 Post Street', 'Boston', 77, '12', 94013, 'TX']\n",
      "95 [61.15, 'Furniture', datetime.datetime(2021, 4, 26, 20, 10, 3, 855876), 'Micro Center', 'TuQpNlVfIa', '229 asdfjk drive', 'San Francisco', 81, '73', 94013, 'NY']\n",
      "96 [11.63, 'Toy', datetime.datetime(2021, 2, 25, 4, 51, 31, 845966), 'Albertsons', 'iZVyPBTkUm', '1234 woot street', 'Boston', 12, '37', 94013, 'TX']\n",
      "97 [57.5, 'Shops', datetime.datetime(2021, 9, 22, 23, 47, 8, 880936), 'Car Wash Classic', 'UtJglAlnPJ', '555 Post Street', 'Philadelphia', 97, '41', 94013, 'NV']\n",
      "98 [39.41, 'Loan', datetime.datetime(2021, 12, 23, 15, 11, 27, 650874), 'Micro Center', 'THCYibWTGE', '555 Post Street', 'San Francisco', 82, '82', 94013, 'CA']\n",
      "99 [125.92, 'Laundry', datetime.datetime(2021, 7, 11, 11, 56, 25, 165054), 'Car Wash Classic', 'NIpQNwpSyv', '229 asdfjk drive', 'New York', 42, '19', 94013, 'WY']\n",
      "100 [105.9, 'Furniture', datetime.datetime(2021, 4, 19, 23, 17, 37, 553739), 'Veggie Grill', 'RbacmiYOac', '555 Post Street', 'Berkeley', 51, '33', 94013, 'CA']\n",
      "101 [162.44, 'Computer Electronics', datetime.datetime(2021, 10, 20, 13, 24, 27, 819728), 'Micro Center', 'wsxtEJTfkm', '123 nowhere street', 'New York', 54, '54', 94013, 'CA']\n",
      "102 [19.62, 'Candy', datetime.datetime(2021, 3, 9, 4, 28, 29, 42146), '7 Eleven', 'yHlQaoZMXr', '229 asdfjk drive', 'Berkeley', 78, '68', 94013, 'OR']\n",
      "103 [62.43, 'Grocery', datetime.datetime(2021, 7, 25, 16, 20, 29, 460864), 'Albertsons', 'dWbJlvEZBT', '229 asdfjk drive', 'Philadelphia', 37, '14', 94013, 'WY']\n",
      "104 [48.82, 'Loan', datetime.datetime(2021, 12, 5, 19, 55, 12, 491754), \"Kroger's\", 'mWleBXIZHo', '123 nowhere street', 'New York', 88, '25', 94013, 'NV']\n",
      "105 [169.87, 'Furniture', datetime.datetime(2021, 5, 23, 4, 13, 57, 15946), '7 Eleven', 'SoMfUplDiX', '555 Post Street', 'Boston', 13, '81', 94013, 'NY']\n",
      "106 [170.62, 'Shops', datetime.datetime(2021, 2, 13, 2, 6, 15, 288433), 'Micro Center', 'mQvnhAfBHu', '229 asdfjk drive', 'Los Angeles', 47, '67', 94013, 'FL']\n",
      "107 [30.42, 'Shops', datetime.datetime(2021, 3, 22, 14, 5, 38, 369098), 'Safeway', 'epbWgHeEym', '1234 woot street', 'San Francisco', 58, '55', 94013, 'FL']\n",
      "108 [181.4, 'Toy', datetime.datetime(2021, 5, 25, 9, 22, 21, 201585), '7 Eleven', 'jCsnbqYdyX', '555 Post Street', 'Philadelphia', 70, '63', 94013, 'NV']\n",
      "109 [217.88, 'Toy', datetime.datetime(2021, 5, 20, 13, 35, 39, 426074), 'Veggie Grill', 'muJMXBRPJq', '123 nowhere street', 'Philadelphia', 73, '5', 94013, 'OR']\n"
     ]
    }
   ],
   "source": [
    "d2 = Dataset(10, 11)\n",
    "d2.fill_dataset()"
   ]
  },
  {
   "cell_type": "code",
   "execution_count": 7,
   "metadata": {},
   "outputs": [],
   "source": [
    "d2.dataset_to_csv('testing')"
   ]
  },
  {
   "cell_type": "code",
   "execution_count": 4,
   "metadata": {},
   "outputs": [],
   "source": [
    "d1 = Dataset(10,11)"
   ]
  },
  {
   "cell_type": "code",
   "execution_count": 5,
   "metadata": {},
   "outputs": [
    {
     "data": {
      "text/plain": [
       "10"
      ]
     },
     "execution_count": 5,
     "metadata": {},
     "output_type": "execute_result"
    }
   ],
   "source": [
    "d1.create_empties()"
   ]
  },
  {
   "cell_type": "code",
   "execution_count": 6,
   "metadata": {},
   "outputs": [
    {
     "data": {
      "text/plain": [
       "136.72"
      ]
     },
     "execution_count": 6,
     "metadata": {},
     "output_type": "execute_result"
    }
   ],
   "source": [
    "d1.rand_amount()"
   ]
  },
  {
   "cell_type": "code",
   "execution_count": 7,
   "metadata": {},
   "outputs": [
    {
     "data": {
      "text/plain": [
       "datetime.datetime(2021, 6, 21, 9, 55, 36, 296923)"
      ]
     },
     "execution_count": 7,
     "metadata": {},
     "output_type": "execute_result"
    }
   ],
   "source": [
    "d1.rand_date()"
   ]
  },
  {
   "cell_type": "code",
   "execution_count": 8,
   "metadata": {},
   "outputs": [
    {
     "data": {
      "text/plain": [
       "'Albertsons'"
      ]
     },
     "execution_count": 8,
     "metadata": {},
     "output_type": "execute_result"
    }
   ],
   "source": [
    "d1.rand_name()"
   ]
  },
  {
   "cell_type": "code",
   "execution_count": 9,
   "metadata": {},
   "outputs": [
    {
     "data": {
      "text/plain": [
       "'hNXBdFznEx'"
      ]
     },
     "execution_count": 9,
     "metadata": {},
     "output_type": "execute_result"
    }
   ],
   "source": [
    "d1.rand_description()"
   ]
  },
  {
   "cell_type": "code",
   "execution_count": 10,
   "metadata": {},
   "outputs": [
    {
     "data": {
      "text/plain": [
       "'555 Post Street'"
      ]
     },
     "execution_count": 10,
     "metadata": {},
     "output_type": "execute_result"
    }
   ],
   "source": [
    "d1.rand_address()"
   ]
  },
  {
   "cell_type": "code",
   "execution_count": 11,
   "metadata": {},
   "outputs": [
    {
     "data": {
      "text/plain": [
       "'San Francisco'"
      ]
     },
     "execution_count": 11,
     "metadata": {},
     "output_type": "execute_result"
    }
   ],
   "source": [
    "d1.rand_city()"
   ]
  },
  {
   "cell_type": "code",
   "execution_count": 12,
   "metadata": {},
   "outputs": [
    {
     "data": {
      "text/plain": [
       "15"
      ]
     },
     "execution_count": 12,
     "metadata": {},
     "output_type": "execute_result"
    }
   ],
   "source": [
    "d1.rand_lat()"
   ]
  },
  {
   "cell_type": "code",
   "execution_count": 13,
   "metadata": {},
   "outputs": [
    {
     "data": {
      "text/plain": [
       "10"
      ]
     },
     "execution_count": 13,
     "metadata": {},
     "output_type": "execute_result"
    }
   ],
   "source": [
    "d1.rand_lon()"
   ]
  },
  {
   "cell_type": "code",
   "execution_count": 14,
   "metadata": {},
   "outputs": [
    {
     "data": {
      "text/plain": [
       "'CA'"
      ]
     },
     "execution_count": 14,
     "metadata": {},
     "output_type": "execute_result"
    }
   ],
   "source": [
    "d1.rand_state()"
   ]
  },
  {
   "cell_type": "code",
   "execution_count": 15,
   "metadata": {},
   "outputs": [
    {
     "data": {
      "text/plain": [
       "94103"
      ]
     },
     "execution_count": 15,
     "metadata": {},
     "output_type": "execute_result"
    }
   ],
   "source": [
    "d1.rand_zip()"
   ]
  }
 ],
 "metadata": {
  "kernelspec": {
   "display_name": "Python 3",
   "language": "python",
   "name": "python3"
  },
  "language_info": {
   "codemirror_mode": {
    "name": "ipython",
    "version": 3
   },
   "file_extension": ".py",
   "mimetype": "text/x-python",
   "name": "python",
   "nbconvert_exporter": "python",
   "pygments_lexer": "ipython3",
   "version": "3.8.6"
  }
 },
 "nbformat": 4,
 "nbformat_minor": 4
}